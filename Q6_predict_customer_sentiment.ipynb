{
 "cells": [
  {
   "cell_type": "markdown",
   "metadata": {
    "id": "RZgcpQZtD9Lg"
   },
   "source": [
    "# Question 6: RNN - LSTM - NLP \n",
    "- Use Clothing, Shoes and Jewelry dataset (file Clothing_Shoes_and_Jewelry_5.json in reviews_Clothing_Shoes_and_Jewelry_5.json.gz) to build a model to predict customer sentiment  based on their review \n",
    "- Read more information here: http://jmcauley.ucsd.edu/data/amazon/"
   ]
  },
  {
   "cell_type": "markdown",
   "metadata": {
    "id": "5vZ9JZTbt1pV"
   },
   "source": [
    "# 0. Mount drive & import packages"
   ]
  },
  {
   "cell_type": "code",
   "execution_count": 1,
   "metadata": {
    "colab": {
     "base_uri": "https://localhost:8080/"
    },
    "executionInfo": {
     "elapsed": 3691,
     "status": "ok",
     "timestamp": 1636796043503,
     "user": {
      "displayName": "Phuong Dam",
      "photoUrl": "https://lh3.googleusercontent.com/a/default-user=s64",
      "userId": "01072403895711103873"
     },
     "user_tz": -420
    },
    "id": "379Z6alyQOZ_",
    "outputId": "0e5adb38-b6f4-4219-9ad9-626ea189f473"
   },
   "outputs": [
    {
     "name": "stdout",
     "output_type": "stream",
     "text": [
      "Mounted at /content/gdrive\n"
     ]
    }
   ],
   "source": [
    "from google.colab import drive\n",
    "drive.mount(\"/content/gdrive\", force_remount=True)"
   ]
  },
  {
   "cell_type": "code",
   "execution_count": 2,
   "metadata": {
    "colab": {
     "base_uri": "https://localhost:8080/"
    },
    "executionInfo": {
     "elapsed": 17,
     "status": "ok",
     "timestamp": 1636796043503,
     "user": {
      "displayName": "Phuong Dam",
      "photoUrl": "https://lh3.googleusercontent.com/a/default-user=s64",
      "userId": "01072403895711103873"
     },
     "user_tz": -420
    },
    "id": "ODF-KqvqQPP3",
    "outputId": "853a2c4c-127e-4b18-e4c8-406e1b549c74"
   },
   "outputs": [
    {
     "name": "stdout",
     "output_type": "stream",
     "text": [
      "/content/gdrive/My Drive/LDS8_K270_ONLINE_DamThiMinhPhuong/LDS8_K270_DamThiMinhPhuong_Cuoi_ky/Question6_RNN_LSTM_NLP\n"
     ]
    }
   ],
   "source": [
    "%cd '/content/gdrive/My Drive/LDS8_K270_ONLINE_DamThiMinhPhuong/LDS8_K270_DamThiMinhPhuong_Cuoi_ky/Question6_RNN_LSTM_NLP'"
   ]
  },
  {
   "cell_type": "code",
   "execution_count": 3,
   "metadata": {
    "executionInfo": {
     "elapsed": 2344,
     "status": "ok",
     "timestamp": 1636796045841,
     "user": {
      "displayName": "Phuong Dam",
      "photoUrl": "https://lh3.googleusercontent.com/a/default-user=s64",
      "userId": "01072403895711103873"
     },
     "user_tz": -420
    },
    "id": "Q-RkwwtiW2ud"
   },
   "outputs": [],
   "source": [
    "import pandas as pd\n",
    "import numpy\n",
    "import matplotlib.pyplot as plt\n",
    "import seaborn as sns\n",
    "\n",
    "import warnings\n",
    "warnings.filterwarnings('ignore')\n",
    "\n",
    "from sklearn.model_selection import train_test_split\n",
    "from sklearn.preprocessing import LabelEncoder\n",
    "from sklearn import metrics\n",
    "import tensorflow as tf\n",
    "from tensorflow.keras import Model\n",
    "from tensorflow.keras.models import Sequential\n",
    "from tensorflow.keras.layers import LSTM, Activation, Dense, Dropout, Input, Embedding\n",
    "from tensorflow.keras.optimizers import RMSprop\n",
    "from tensorflow.keras.preprocessing.text import Tokenizer\n",
    "from tensorflow.keras.preprocessing import sequence\n",
    "from tensorflow.keras.utils import to_categorical\n",
    "from tensorflow.keras.callbacks import EarlyStopping\n",
    "%matplotlib inline"
   ]
  },
  {
   "cell_type": "markdown",
   "metadata": {
    "id": "6tGEuREit9Bx"
   },
   "source": [
    "# 1. Load data"
   ]
  },
  {
   "cell_type": "code",
   "execution_count": 4,
   "metadata": {
    "executionInfo": {
     "elapsed": 4482,
     "status": "ok",
     "timestamp": 1636796050320,
     "user": {
      "displayName": "Phuong Dam",
      "photoUrl": "https://lh3.googleusercontent.com/a/default-user=s64",
      "userId": "01072403895711103873"
     },
     "user_tz": -420
    },
    "id": "rmQhicpT-aqc"
   },
   "outputs": [],
   "source": [
    "data = pd.read_json(\"reviews_Clothing_Shoes_and_Jewelry_5.json.gz\",lines=True)"
   ]
  },
  {
   "cell_type": "code",
   "execution_count": 5,
   "metadata": {
    "colab": {
     "base_uri": "https://localhost:8080/",
     "height": 289
    },
    "executionInfo": {
     "elapsed": 32,
     "status": "ok",
     "timestamp": 1636796050321,
     "user": {
      "displayName": "Phuong Dam",
      "photoUrl": "https://lh3.googleusercontent.com/a/default-user=s64",
      "userId": "01072403895711103873"
     },
     "user_tz": -420
    },
    "id": "zc5Xx50UZmGm",
    "outputId": "c803210c-c686-4397-e61a-b0aff9ce4640"
   },
   "outputs": [
    {
     "data": {
      "text/html": [
       "<div>\n",
       "<style scoped>\n",
       "    .dataframe tbody tr th:only-of-type {\n",
       "        vertical-align: middle;\n",
       "    }\n",
       "\n",
       "    .dataframe tbody tr th {\n",
       "        vertical-align: top;\n",
       "    }\n",
       "\n",
       "    .dataframe thead th {\n",
       "        text-align: right;\n",
       "    }\n",
       "</style>\n",
       "<table border=\"1\" class=\"dataframe\">\n",
       "  <thead>\n",
       "    <tr style=\"text-align: right;\">\n",
       "      <th></th>\n",
       "      <th>reviewerID</th>\n",
       "      <th>asin</th>\n",
       "      <th>reviewerName</th>\n",
       "      <th>helpful</th>\n",
       "      <th>reviewText</th>\n",
       "      <th>overall</th>\n",
       "      <th>summary</th>\n",
       "      <th>unixReviewTime</th>\n",
       "      <th>reviewTime</th>\n",
       "    </tr>\n",
       "  </thead>\n",
       "  <tbody>\n",
       "    <tr>\n",
       "      <th>0</th>\n",
       "      <td>A1KLRMWW2FWPL4</td>\n",
       "      <td>0000031887</td>\n",
       "      <td>Amazon Customer \"cameramom\"</td>\n",
       "      <td>[0, 0]</td>\n",
       "      <td>This is a great tutu and at a really great pri...</td>\n",
       "      <td>5</td>\n",
       "      <td>Great tutu-  not cheaply made</td>\n",
       "      <td>1297468800</td>\n",
       "      <td>02 12, 2011</td>\n",
       "    </tr>\n",
       "    <tr>\n",
       "      <th>1</th>\n",
       "      <td>A2G5TCU2WDFZ65</td>\n",
       "      <td>0000031887</td>\n",
       "      <td>Amazon Customer</td>\n",
       "      <td>[0, 0]</td>\n",
       "      <td>I bought this for my 4 yr old daughter for dan...</td>\n",
       "      <td>5</td>\n",
       "      <td>Very Cute!!</td>\n",
       "      <td>1358553600</td>\n",
       "      <td>01 19, 2013</td>\n",
       "    </tr>\n",
       "    <tr>\n",
       "      <th>2</th>\n",
       "      <td>A1RLQXYNCMWRWN</td>\n",
       "      <td>0000031887</td>\n",
       "      <td>Carola</td>\n",
       "      <td>[0, 0]</td>\n",
       "      <td>What can I say... my daughters have it in oran...</td>\n",
       "      <td>5</td>\n",
       "      <td>I have buy more than one</td>\n",
       "      <td>1357257600</td>\n",
       "      <td>01 4, 2013</td>\n",
       "    </tr>\n",
       "    <tr>\n",
       "      <th>3</th>\n",
       "      <td>A8U3FAMSJVHS5</td>\n",
       "      <td>0000031887</td>\n",
       "      <td>Caromcg</td>\n",
       "      <td>[0, 0]</td>\n",
       "      <td>We bought several tutus at once, and they are ...</td>\n",
       "      <td>5</td>\n",
       "      <td>Adorable, Sturdy</td>\n",
       "      <td>1398556800</td>\n",
       "      <td>04 27, 2014</td>\n",
       "    </tr>\n",
       "    <tr>\n",
       "      <th>4</th>\n",
       "      <td>A3GEOILWLK86XM</td>\n",
       "      <td>0000031887</td>\n",
       "      <td>CJ</td>\n",
       "      <td>[0, 0]</td>\n",
       "      <td>Thank you Halo Heaven great product for Little...</td>\n",
       "      <td>5</td>\n",
       "      <td>Grammy's Angels Love it</td>\n",
       "      <td>1394841600</td>\n",
       "      <td>03 15, 2014</td>\n",
       "    </tr>\n",
       "  </tbody>\n",
       "</table>\n",
       "</div>"
      ],
      "text/plain": [
       "       reviewerID        asin  ... unixReviewTime   reviewTime\n",
       "0  A1KLRMWW2FWPL4  0000031887  ...     1297468800  02 12, 2011\n",
       "1  A2G5TCU2WDFZ65  0000031887  ...     1358553600  01 19, 2013\n",
       "2  A1RLQXYNCMWRWN  0000031887  ...     1357257600   01 4, 2013\n",
       "3   A8U3FAMSJVHS5  0000031887  ...     1398556800  04 27, 2014\n",
       "4  A3GEOILWLK86XM  0000031887  ...     1394841600  03 15, 2014\n",
       "\n",
       "[5 rows x 9 columns]"
      ]
     },
     "execution_count": 5,
     "metadata": {},
     "output_type": "execute_result"
    }
   ],
   "source": [
    "data.head()"
   ]
  },
  {
   "cell_type": "code",
   "execution_count": 6,
   "metadata": {
    "colab": {
     "base_uri": "https://localhost:8080/"
    },
    "executionInfo": {
     "elapsed": 28,
     "status": "ok",
     "timestamp": 1636796050321,
     "user": {
      "displayName": "Phuong Dam",
      "photoUrl": "https://lh3.googleusercontent.com/a/default-user=s64",
      "userId": "01072403895711103873"
     },
     "user_tz": -420
    },
    "id": "5_Uh4cz8ZoUu",
    "outputId": "aad2ca1d-b5b9-4a79-9a37-990720fbc7cd"
   },
   "outputs": [
    {
     "data": {
      "text/plain": [
       "(278677, 9)"
      ]
     },
     "execution_count": 6,
     "metadata": {},
     "output_type": "execute_result"
    }
   ],
   "source": [
    "data.shape"
   ]
  },
  {
   "cell_type": "code",
   "execution_count": 7,
   "metadata": {
    "colab": {
     "base_uri": "https://localhost:8080/"
    },
    "executionInfo": {
     "elapsed": 17,
     "status": "ok",
     "timestamp": 1636796050321,
     "user": {
      "displayName": "Phuong Dam",
      "photoUrl": "https://lh3.googleusercontent.com/a/default-user=s64",
      "userId": "01072403895711103873"
     },
     "user_tz": -420
    },
    "id": "NsKlGI3psjMK",
    "outputId": "9f3cfc23-0d8b-434e-ab0e-1e839a30f81b"
   },
   "outputs": [
    {
     "name": "stdout",
     "output_type": "stream",
     "text": [
      "<class 'pandas.core.frame.DataFrame'>\n",
      "RangeIndex: 278677 entries, 0 to 278676\n",
      "Data columns (total 9 columns):\n",
      " #   Column          Non-Null Count   Dtype \n",
      "---  ------          --------------   ----- \n",
      " 0   reviewerID      278677 non-null  object\n",
      " 1   asin            278677 non-null  object\n",
      " 2   reviewerName    278225 non-null  object\n",
      " 3   helpful         278677 non-null  object\n",
      " 4   reviewText      278677 non-null  object\n",
      " 5   overall         278677 non-null  int64 \n",
      " 6   summary         278677 non-null  object\n",
      " 7   unixReviewTime  278677 non-null  int64 \n",
      " 8   reviewTime      278677 non-null  object\n",
      "dtypes: int64(2), object(7)\n",
      "memory usage: 19.1+ MB\n"
     ]
    }
   ],
   "source": [
    "data.info()"
   ]
  },
  {
   "cell_type": "code",
   "execution_count": 8,
   "metadata": {
    "colab": {
     "base_uri": "https://localhost:8080/",
     "height": 204
    },
    "executionInfo": {
     "elapsed": 9,
     "status": "ok",
     "timestamp": 1636796050321,
     "user": {
      "displayName": "Phuong Dam",
      "photoUrl": "https://lh3.googleusercontent.com/a/default-user=s64",
      "userId": "01072403895711103873"
     },
     "user_tz": -420
    },
    "id": "LtlTJaTMfNpR",
    "outputId": "aeb7c888-25ae-45bc-a47f-dcff02cb2fa1"
   },
   "outputs": [
    {
     "data": {
      "text/html": [
       "<div>\n",
       "<style scoped>\n",
       "    .dataframe tbody tr th:only-of-type {\n",
       "        vertical-align: middle;\n",
       "    }\n",
       "\n",
       "    .dataframe tbody tr th {\n",
       "        vertical-align: top;\n",
       "    }\n",
       "\n",
       "    .dataframe thead th {\n",
       "        text-align: right;\n",
       "    }\n",
       "</style>\n",
       "<table border=\"1\" class=\"dataframe\">\n",
       "  <thead>\n",
       "    <tr style=\"text-align: right;\">\n",
       "      <th></th>\n",
       "      <th>reviewText</th>\n",
       "      <th>overall</th>\n",
       "    </tr>\n",
       "  </thead>\n",
       "  <tbody>\n",
       "    <tr>\n",
       "      <th>0</th>\n",
       "      <td>This is a great tutu and at a really great pri...</td>\n",
       "      <td>5</td>\n",
       "    </tr>\n",
       "    <tr>\n",
       "      <th>1</th>\n",
       "      <td>I bought this for my 4 yr old daughter for dan...</td>\n",
       "      <td>5</td>\n",
       "    </tr>\n",
       "    <tr>\n",
       "      <th>2</th>\n",
       "      <td>What can I say... my daughters have it in oran...</td>\n",
       "      <td>5</td>\n",
       "    </tr>\n",
       "    <tr>\n",
       "      <th>3</th>\n",
       "      <td>We bought several tutus at once, and they are ...</td>\n",
       "      <td>5</td>\n",
       "    </tr>\n",
       "    <tr>\n",
       "      <th>4</th>\n",
       "      <td>Thank you Halo Heaven great product for Little...</td>\n",
       "      <td>5</td>\n",
       "    </tr>\n",
       "  </tbody>\n",
       "</table>\n",
       "</div>"
      ],
      "text/plain": [
       "                                          reviewText  overall\n",
       "0  This is a great tutu and at a really great pri...        5\n",
       "1  I bought this for my 4 yr old daughter for dan...        5\n",
       "2  What can I say... my daughters have it in oran...        5\n",
       "3  We bought several tutus at once, and they are ...        5\n",
       "4  Thank you Halo Heaven great product for Little...        5"
      ]
     },
     "execution_count": 8,
     "metadata": {},
     "output_type": "execute_result"
    }
   ],
   "source": [
    "df = data[['reviewText','overall']]\n",
    "df.head()"
   ]
  },
  {
   "cell_type": "code",
   "execution_count": 9,
   "metadata": {
    "colab": {
     "base_uri": "https://localhost:8080/"
    },
    "executionInfo": {
     "elapsed": 337,
     "status": "ok",
     "timestamp": 1636796050651,
     "user": {
      "displayName": "Phuong Dam",
      "photoUrl": "https://lh3.googleusercontent.com/a/default-user=s64",
      "userId": "01072403895711103873"
     },
     "user_tz": -420
    },
    "id": "aaM64GkqskfL",
    "outputId": "7a62a173-322b-4d18-f17e-4d1e92489849"
   },
   "outputs": [
    {
     "name": "stdout",
     "output_type": "stream",
     "text": [
      "<class 'pandas.core.frame.DataFrame'>\n",
      "RangeIndex: 278677 entries, 0 to 278676\n",
      "Data columns (total 2 columns):\n",
      " #   Column      Non-Null Count   Dtype \n",
      "---  ------      --------------   ----- \n",
      " 0   reviewText  278677 non-null  object\n",
      " 1   overall     278677 non-null  int64 \n",
      "dtypes: int64(1), object(1)\n",
      "memory usage: 4.3+ MB\n"
     ]
    }
   ],
   "source": [
    "df.info()         "
   ]
  },
  {
   "cell_type": "code",
   "execution_count": 10,
   "metadata": {
    "colab": {
     "base_uri": "https://localhost:8080/"
    },
    "executionInfo": {
     "elapsed": 9,
     "status": "ok",
     "timestamp": 1636796050651,
     "user": {
      "displayName": "Phuong Dam",
      "photoUrl": "https://lh3.googleusercontent.com/a/default-user=s64",
      "userId": "01072403895711103873"
     },
     "user_tz": -420
    },
    "id": "l5J3dOrv1cKT",
    "outputId": "7dc0826b-1fcd-4275-fdff-be536852aa5b"
   },
   "outputs": [
    {
     "data": {
      "text/plain": [
       "108"
      ]
     },
     "execution_count": 10,
     "metadata": {},
     "output_type": "execute_result"
    }
   ],
   "source": [
    "df.duplicated().sum()"
   ]
  },
  {
   "cell_type": "code",
   "execution_count": 11,
   "metadata": {
    "executionInfo": {
     "elapsed": 339,
     "status": "ok",
     "timestamp": 1636796050988,
     "user": {
      "displayName": "Phuong Dam",
      "photoUrl": "https://lh3.googleusercontent.com/a/default-user=s64",
      "userId": "01072403895711103873"
     },
     "user_tz": -420
    },
    "id": "2yNy4FIi1beI"
   },
   "outputs": [],
   "source": [
    "df = df.drop_duplicates()\n",
    "df = df.reset_index(drop=True)"
   ]
  },
  {
   "cell_type": "code",
   "execution_count": 12,
   "metadata": {
    "colab": {
     "base_uri": "https://localhost:8080/"
    },
    "executionInfo": {
     "elapsed": 10,
     "status": "ok",
     "timestamp": 1636796050988,
     "user": {
      "displayName": "Phuong Dam",
      "photoUrl": "https://lh3.googleusercontent.com/a/default-user=s64",
      "userId": "01072403895711103873"
     },
     "user_tz": -420
    },
    "id": "piQOOnJl1lpX",
    "outputId": "9ea9d61d-240e-42fe-da50-2af52ef581fa"
   },
   "outputs": [
    {
     "name": "stdout",
     "output_type": "stream",
     "text": [
      "<class 'pandas.core.frame.DataFrame'>\n",
      "RangeIndex: 278569 entries, 0 to 278568\n",
      "Data columns (total 2 columns):\n",
      " #   Column      Non-Null Count   Dtype \n",
      "---  ------      --------------   ----- \n",
      " 0   reviewText  278569 non-null  object\n",
      " 1   overall     278569 non-null  int64 \n",
      "dtypes: int64(1), object(1)\n",
      "memory usage: 4.3+ MB\n"
     ]
    }
   ],
   "source": [
    "df.info()       "
   ]
  },
  {
   "cell_type": "markdown",
   "metadata": {
    "id": "MaIGw6ydfl14"
   },
   "source": [
    "### Nhận xét:\n",
    "- Không có giá trị null\n",
    "- Kiểu dữ liệu đúng\n",
    "- 108 dong duplicate  => dropp"
   ]
  },
  {
   "cell_type": "code",
   "execution_count": 13,
   "metadata": {
    "colab": {
     "base_uri": "https://localhost:8080/",
     "height": 204
    },
    "executionInfo": {
     "elapsed": 1294,
     "status": "ok",
     "timestamp": 1636796052277,
     "user": {
      "displayName": "Phuong Dam",
      "photoUrl": "https://lh3.googleusercontent.com/a/default-user=s64",
      "userId": "01072403895711103873"
     },
     "user_tz": -420
    },
    "id": "IhnaT77IfgRs",
    "outputId": "470ce9dd-1ccd-4f88-b6de-24983492de8d"
   },
   "outputs": [
    {
     "data": {
      "text/html": [
       "<div>\n",
       "<style scoped>\n",
       "    .dataframe tbody tr th:only-of-type {\n",
       "        vertical-align: middle;\n",
       "    }\n",
       "\n",
       "    .dataframe tbody tr th {\n",
       "        vertical-align: top;\n",
       "    }\n",
       "\n",
       "    .dataframe thead th {\n",
       "        text-align: right;\n",
       "    }\n",
       "</style>\n",
       "<table border=\"1\" class=\"dataframe\">\n",
       "  <thead>\n",
       "    <tr style=\"text-align: right;\">\n",
       "      <th></th>\n",
       "      <th>reviewText</th>\n",
       "      <th>overall</th>\n",
       "      <th>WORDS</th>\n",
       "    </tr>\n",
       "  </thead>\n",
       "  <tbody>\n",
       "    <tr>\n",
       "      <th>0</th>\n",
       "      <td>This is a great tutu and at a really great pri...</td>\n",
       "      <td>5</td>\n",
       "      <td>35</td>\n",
       "    </tr>\n",
       "    <tr>\n",
       "      <th>1</th>\n",
       "      <td>I bought this for my 4 yr old daughter for dan...</td>\n",
       "      <td>5</td>\n",
       "      <td>61</td>\n",
       "    </tr>\n",
       "    <tr>\n",
       "      <th>2</th>\n",
       "      <td>What can I say... my daughters have it in oran...</td>\n",
       "      <td>5</td>\n",
       "      <td>62</td>\n",
       "    </tr>\n",
       "    <tr>\n",
       "      <th>3</th>\n",
       "      <td>We bought several tutus at once, and they are ...</td>\n",
       "      <td>5</td>\n",
       "      <td>76</td>\n",
       "    </tr>\n",
       "    <tr>\n",
       "      <th>4</th>\n",
       "      <td>Thank you Halo Heaven great product for Little...</td>\n",
       "      <td>5</td>\n",
       "      <td>80</td>\n",
       "    </tr>\n",
       "  </tbody>\n",
       "</table>\n",
       "</div>"
      ],
      "text/plain": [
       "                                          reviewText  overall  WORDS\n",
       "0  This is a great tutu and at a really great pri...        5     35\n",
       "1  I bought this for my 4 yr old daughter for dan...        5     61\n",
       "2  What can I say... my daughters have it in oran...        5     62\n",
       "3  We bought several tutus at once, and they are ...        5     76\n",
       "4  Thank you Halo Heaven great product for Little...        5     80"
      ]
     },
     "execution_count": 13,
     "metadata": {},
     "output_type": "execute_result"
    }
   ],
   "source": [
    "df['WORDS'] = df['reviewText'].map(lambda x: len(x.split()))\n",
    "df.head()"
   ]
  },
  {
   "cell_type": "code",
   "execution_count": 14,
   "metadata": {
    "colab": {
     "base_uri": "https://localhost:8080/"
    },
    "executionInfo": {
     "elapsed": 61,
     "status": "ok",
     "timestamp": 1636796052278,
     "user": {
      "displayName": "Phuong Dam",
      "photoUrl": "https://lh3.googleusercontent.com/a/default-user=s64",
      "userId": "01072403895711103873"
     },
     "user_tz": -420
    },
    "id": "iUD8q3IXfwWb",
    "outputId": "4dc87d0a-45b6-4ab5-ad97-4c1a5d3538dd"
   },
   "outputs": [
    {
     "data": {
      "text/plain": [
       "count    278569.000000\n",
       "mean         59.974480\n",
       "std          61.291106\n",
       "min           0.000000\n",
       "25%          26.000000\n",
       "50%          41.000000\n",
       "75%          70.000000\n",
       "max        3882.000000\n",
       "Name: WORDS, dtype: float64"
      ]
     },
     "execution_count": 14,
     "metadata": {},
     "output_type": "execute_result"
    }
   ],
   "source": [
    "df['WORDS'].describe()"
   ]
  },
  {
   "cell_type": "code",
   "execution_count": 15,
   "metadata": {
    "colab": {
     "base_uri": "https://localhost:8080/"
    },
    "executionInfo": {
     "elapsed": 57,
     "status": "ok",
     "timestamp": 1636796052278,
     "user": {
      "displayName": "Phuong Dam",
      "photoUrl": "https://lh3.googleusercontent.com/a/default-user=s64",
      "userId": "01072403895711103873"
     },
     "user_tz": -420
    },
    "id": "DExl8IYRhlVR",
    "outputId": "a06dd7a9-31c0-4387-b5fe-556cf328fc06"
   },
   "outputs": [
    {
     "data": {
      "text/plain": [
       "5"
      ]
     },
     "execution_count": 15,
     "metadata": {},
     "output_type": "execute_result"
    }
   ],
   "source": [
    "len(df['WORDS'][df['WORDS']==0])"
   ]
  },
  {
   "cell_type": "code",
   "execution_count": 16,
   "metadata": {
    "colab": {
     "base_uri": "https://localhost:8080/"
    },
    "executionInfo": {
     "elapsed": 47,
     "status": "ok",
     "timestamp": 1636796052278,
     "user": {
      "displayName": "Phuong Dam",
      "photoUrl": "https://lh3.googleusercontent.com/a/default-user=s64",
      "userId": "01072403895711103873"
     },
     "user_tz": -420
    },
    "id": "RrG0hqilE_rM",
    "outputId": "ce190ee2-c424-4ba3-97b2-fb40c8ed966f"
   },
   "outputs": [
    {
     "data": {
      "text/plain": [
       "118.0"
      ]
     },
     "execution_count": 16,
     "metadata": {},
     "output_type": "execute_result"
    }
   ],
   "source": [
    "numpy.percentile(df.WORDS,90)"
   ]
  },
  {
   "cell_type": "code",
   "execution_count": 17,
   "metadata": {
    "colab": {
     "base_uri": "https://localhost:8080/"
    },
    "executionInfo": {
     "elapsed": 40,
     "status": "ok",
     "timestamp": 1636796052278,
     "user": {
      "displayName": "Phuong Dam",
      "photoUrl": "https://lh3.googleusercontent.com/a/default-user=s64",
      "userId": "01072403895711103873"
     },
     "user_tz": -420
    },
    "id": "785iv9MciBAX",
    "outputId": "e20d0240-1ee1-4805-f237-d2e7944c3bbd"
   },
   "outputs": [
    {
     "data": {
      "text/plain": [
       "array([5, 4, 3, 1, 2])"
      ]
     },
     "execution_count": 17,
     "metadata": {},
     "output_type": "execute_result"
    }
   ],
   "source": [
    "df.overall.unique()"
   ]
  },
  {
   "cell_type": "code",
   "execution_count": 18,
   "metadata": {
    "executionInfo": {
     "elapsed": 32,
     "status": "ok",
     "timestamp": 1636796052278,
     "user": {
      "displayName": "Phuong Dam",
      "photoUrl": "https://lh3.googleusercontent.com/a/default-user=s64",
      "userId": "01072403895711103873"
     },
     "user_tz": -420
    },
    "id": "u56sSitOiF3s"
   },
   "outputs": [],
   "source": [
    "# nhóm đánh giá thành 3 class (Like-2: 4&5 stars, Neutral-1: 3 stars, Dislike-0: 1&2 stars)\n",
    "df.overall = df.overall.apply(lambda x: 2 if (x>3) else (1 if x==3 else 0))"
   ]
  },
  {
   "cell_type": "code",
   "execution_count": 19,
   "metadata": {
    "colab": {
     "base_uri": "https://localhost:8080/"
    },
    "executionInfo": {
     "elapsed": 32,
     "status": "ok",
     "timestamp": 1636796052278,
     "user": {
      "displayName": "Phuong Dam",
      "photoUrl": "https://lh3.googleusercontent.com/a/default-user=s64",
      "userId": "01072403895711103873"
     },
     "user_tz": -420
    },
    "id": "1FANAObBjCAY",
    "outputId": "fd2abbd8-9ff1-41e3-b8a6-9a92d3e30bbf"
   },
   "outputs": [
    {
     "data": {
      "text/plain": [
       "2    221495\n",
       "1     30421\n",
       "0     26653\n",
       "Name: overall, dtype: int64"
      ]
     },
     "execution_count": 19,
     "metadata": {},
     "output_type": "execute_result"
    }
   ],
   "source": [
    "df.overall.value_counts()"
   ]
  },
  {
   "cell_type": "code",
   "execution_count": 20,
   "metadata": {
    "colab": {
     "base_uri": "https://localhost:8080/",
     "height": 278
    },
    "executionInfo": {
     "elapsed": 27,
     "status": "ok",
     "timestamp": 1636796052279,
     "user": {
      "displayName": "Phuong Dam",
      "photoUrl": "https://lh3.googleusercontent.com/a/default-user=s64",
      "userId": "01072403895711103873"
     },
     "user_tz": -420
    },
    "id": "cLGeLIhShuwS",
    "outputId": "27e8a0fc-5575-4412-8076-86e188908049"
   },
   "outputs": [
    {
     "data": {
      "image/png": "[encoded data removed]",
      "text/plain": [
       "<Figure size 432x288 with 1 Axes>"
      ]
     },
     "metadata": {
      "needs_background": "light"
     },
     "output_type": "display_data"
    }
   ],
   "source": [
    "count = df.overall.value_counts()\n",
    "count.plot(kind='bar')\n",
    "plt.title('No of Customer Sentiment score per class')\n",
    "plt.show()"
   ]
  },
  {
   "cell_type": "markdown",
   "metadata": {
    "id": "2JCrjSXzgR32"
   },
   "source": [
    "### Nhận xét:      \n",
    "- Range của số lượng từ trong review của khách hàng khá lớn (max 3882 từ, min 0)\n",
    "- có 24 khách hàng đánh giá nhưng ko viết review\n",
    "- dữ liệu không cân bằng "
   ]
  },
  {
   "cell_type": "code",
   "execution_count": 21,
   "metadata": {
    "executionInfo": {
     "elapsed": 26,
     "status": "ok",
     "timestamp": 1636796052279,
     "user": {
      "displayName": "Phuong Dam",
      "photoUrl": "https://lh3.googleusercontent.com/a/default-user=s64",
      "userId": "01072403895711103873"
     },
     "user_tz": -420
    },
    "id": "8Fr7MDnSgO07"
   },
   "outputs": [],
   "source": [
    "# Split input & output\n",
    "X = df.reviewText\n",
    "Y = df.overall"
   ]
  },
  {
   "cell_type": "code",
   "execution_count": 22,
   "metadata": {
    "executionInfo": {
     "elapsed": 25,
     "status": "ok",
     "timestamp": 1636796052279,
     "user": {
      "displayName": "Phuong Dam",
      "photoUrl": "https://lh3.googleusercontent.com/a/default-user=s64",
      "userId": "01072403895711103873"
     },
     "user_tz": -420
    },
    "id": "P3YKIuQhzYkK"
   },
   "outputs": [],
   "source": [
    "# # Oversampling\n",
    "# from imblearn.over_sampling import SMOTE\n",
    "# sm = SMOTE()\n",
    "# X_sm, Y_sm = sm.fit_resample(X,Y)"
   ]
  },
  {
   "cell_type": "code",
   "execution_count": 22,
   "metadata": {
    "executionInfo": {
     "elapsed": 25,
     "status": "ok",
     "timestamp": 1636796052279,
     "user": {
      "displayName": "Phuong Dam",
      "photoUrl": "https://lh3.googleusercontent.com/a/default-user=s64",
      "userId": "01072403895711103873"
     },
     "user_tz": -420
    },
    "id": "sg0DMx4J0TkA"
   },
   "outputs": [],
   "source": []
  },
  {
   "cell_type": "code",
   "execution_count": 23,
   "metadata": {
    "colab": {
     "base_uri": "https://localhost:8080/"
    },
    "executionInfo": {
     "elapsed": 24,
     "status": "ok",
     "timestamp": 1636796052279,
     "user": {
      "displayName": "Phuong Dam",
      "photoUrl": "https://lh3.googleusercontent.com/a/default-user=s64",
      "userId": "01072403895711103873"
     },
     "user_tz": -420
    },
    "id": "1uIP7NdakydA",
    "outputId": "0e433ac4-2ab5-416a-daaf-74c8bbe3664f"
   },
   "outputs": [
    {
     "data": {
      "text/plain": [
       "((278569,), (278569,))"
      ]
     },
     "execution_count": 23,
     "metadata": {},
     "output_type": "execute_result"
    }
   ],
   "source": [
    "X.shape, Y.shape"
   ]
  },
  {
   "cell_type": "code",
   "execution_count": 24,
   "metadata": {
    "colab": {
     "base_uri": "https://localhost:8080/"
    },
    "executionInfo": {
     "elapsed": 17,
     "status": "ok",
     "timestamp": 1636796052279,
     "user": {
      "displayName": "Phuong Dam",
      "photoUrl": "https://lh3.googleusercontent.com/a/default-user=s64",
      "userId": "01072403895711103873"
     },
     "user_tz": -420
    },
    "id": "qbzU6DGBlHtX",
    "outputId": "864d43cd-4d59-4a0e-f92c-b3135497623d"
   },
   "outputs": [
    {
     "data": {
      "text/plain": [
       "0    This is a great tutu and at a really great pri...\n",
       "1    I bought this for my 4 yr old daughter for dan...\n",
       "2    What can I say... my daughters have it in oran...\n",
       "3    We bought several tutus at once, and they are ...\n",
       "4    Thank you Halo Heaven great product for Little...\n",
       "Name: reviewText, dtype: object"
      ]
     },
     "execution_count": 24,
     "metadata": {},
     "output_type": "execute_result"
    }
   ],
   "source": [
    "X.head()"
   ]
  },
  {
   "cell_type": "code",
   "execution_count": 25,
   "metadata": {
    "colab": {
     "base_uri": "https://localhost:8080/"
    },
    "executionInfo": {
     "elapsed": 13,
     "status": "ok",
     "timestamp": 1636796052280,
     "user": {
      "displayName": "Phuong Dam",
      "photoUrl": "https://lh3.googleusercontent.com/a/default-user=s64",
      "userId": "01072403895711103873"
     },
     "user_tz": -420
    },
    "id": "rZVERo9ElKq0",
    "outputId": "5a2448ec-8a8d-4f37-d9dc-f9c6ea9c3685"
   },
   "outputs": [
    {
     "data": {
      "text/plain": [
       "0    2\n",
       "1    2\n",
       "2    2\n",
       "3    2\n",
       "4    2\n",
       "Name: overall, dtype: int64"
      ]
     },
     "execution_count": 25,
     "metadata": {},
     "output_type": "execute_result"
    }
   ],
   "source": [
    "Y.head()"
   ]
  },
  {
   "cell_type": "code",
   "execution_count": 26,
   "metadata": {
    "executionInfo": {
     "elapsed": 310,
     "status": "ok",
     "timestamp": 1636796052583,
     "user": {
      "displayName": "Phuong Dam",
      "photoUrl": "https://lh3.googleusercontent.com/a/default-user=s64",
      "userId": "01072403895711103873"
     },
     "user_tz": -420
    },
    "id": "hmlqopEEuYrv"
   },
   "outputs": [],
   "source": [
    "# from sklearn.preprocessing import OneHotEncoder\n",
    "# ohe = OneHotEncoder()\n",
    "# ohe.fit(Y)\n",
    "# Y = ohe.transform(Y)\n",
    "# Y = pd.get_dummies(Y)\n",
    "Y = to_categorical(Y, 3, dtype =\"uint8\")\n",
    "Y = pd.DataFrame(Y)"
   ]
  },
  {
   "cell_type": "code",
   "execution_count": 27,
   "metadata": {
    "colab": {
     "base_uri": "https://localhost:8080/",
     "height": 204
    },
    "executionInfo": {
     "elapsed": 7,
     "status": "ok",
     "timestamp": 1636796052583,
     "user": {
      "displayName": "Phuong Dam",
      "photoUrl": "https://lh3.googleusercontent.com/a/default-user=s64",
      "userId": "01072403895711103873"
     },
     "user_tz": -420
    },
    "id": "lzFsvxObum2v",
    "outputId": "a620487a-e0b8-45e5-a2f1-81d46a5b267e"
   },
   "outputs": [
    {
     "data": {
      "text/html": [
       "<div>\n",
       "<style scoped>\n",
       "    .dataframe tbody tr th:only-of-type {\n",
       "        vertical-align: middle;\n",
       "    }\n",
       "\n",
       "    .dataframe tbody tr th {\n",
       "        vertical-align: top;\n",
       "    }\n",
       "\n",
       "    .dataframe thead th {\n",
       "        text-align: right;\n",
       "    }\n",
       "</style>\n",
       "<table border=\"1\" class=\"dataframe\">\n",
       "  <thead>\n",
       "    <tr style=\"text-align: right;\">\n",
       "      <th></th>\n",
       "      <th>0</th>\n",
       "      <th>1</th>\n",
       "      <th>2</th>\n",
       "    </tr>\n",
       "  </thead>\n",
       "  <tbody>\n",
       "    <tr>\n",
       "      <th>0</th>\n",
       "      <td>0</td>\n",
       "      <td>0</td>\n",
       "      <td>1</td>\n",
       "    </tr>\n",
       "    <tr>\n",
       "      <th>1</th>\n",
       "      <td>0</td>\n",
       "      <td>0</td>\n",
       "      <td>1</td>\n",
       "    </tr>\n",
       "    <tr>\n",
       "      <th>2</th>\n",
       "      <td>0</td>\n",
       "      <td>0</td>\n",
       "      <td>1</td>\n",
       "    </tr>\n",
       "    <tr>\n",
       "      <th>3</th>\n",
       "      <td>0</td>\n",
       "      <td>0</td>\n",
       "      <td>1</td>\n",
       "    </tr>\n",
       "    <tr>\n",
       "      <th>4</th>\n",
       "      <td>0</td>\n",
       "      <td>0</td>\n",
       "      <td>1</td>\n",
       "    </tr>\n",
       "  </tbody>\n",
       "</table>\n",
       "</div>"
      ],
      "text/plain": [
       "   0  1  2\n",
       "0  0  0  1\n",
       "1  0  0  1\n",
       "2  0  0  1\n",
       "3  0  0  1\n",
       "4  0  0  1"
      ]
     },
     "execution_count": 27,
     "metadata": {},
     "output_type": "execute_result"
    }
   ],
   "source": [
    "Y.head()"
   ]
  },
  {
   "cell_type": "code",
   "execution_count": 28,
   "metadata": {
    "executionInfo": {
     "elapsed": 7,
     "status": "ok",
     "timestamp": 1636796052584,
     "user": {
      "displayName": "Phuong Dam",
      "photoUrl": "https://lh3.googleusercontent.com/a/default-user=s64",
      "userId": "01072403895711103873"
     },
     "user_tz": -420
    },
    "id": "8taYNIsHkwSi"
   },
   "outputs": [],
   "source": [
    "X_train, X_test, y_train, y_test = train_test_split(X, Y, test_size=0.3)"
   ]
  },
  {
   "cell_type": "markdown",
   "metadata": {
    "id": "qDlfGlPklUSb"
   },
   "source": [
    "# 2. Process the data"
   ]
  },
  {
   "cell_type": "code",
   "execution_count": 29,
   "metadata": {
    "executionInfo": {
     "elapsed": 19616,
     "status": "ok",
     "timestamp": 1636796072194,
     "user": {
      "displayName": "Phuong Dam",
      "photoUrl": "https://lh3.googleusercontent.com/a/default-user=s64",
      "userId": "01072403895711103873"
     },
     "user_tz": -420
    },
    "id": "91X70XUrlCiQ"
   },
   "outputs": [],
   "source": [
    "max_words = 1000\n",
    "max_len = 150\n",
    "tok = Tokenizer(num_words=max_words,\n",
    "                filters='!\"#$%&()*+,-./:;<=>?@[\\\\]^_`{|}~\\t\\n\\S+|https?:\\S+|http?:\\S|[^A-Za-z0-9]+',\n",
    "                lower=True, \n",
    "                split=' ')\n",
    "tok.fit_on_texts(X_train)\n",
    "\n",
    "sequences = tok.texts_to_sequences(X_train) \n",
    "sequence_matrix = sequence.pad_sequences(sequences, maxlen=max_len) \n",
    "# text_cleaning_re = \"@\\S+|https?:\\S+|http?:\\S|[^A-Za-z0-9]+\""
   ]
  },
  {
   "cell_type": "code",
   "execution_count": 30,
   "metadata": {
    "colab": {
     "base_uri": "https://localhost:8080/"
    },
    "executionInfo": {
     "elapsed": 11,
     "status": "ok",
     "timestamp": 1636796072195,
     "user": {
      "displayName": "Phuong Dam",
      "photoUrl": "https://lh3.googleusercontent.com/a/default-user=s64",
      "userId": "01072403895711103873"
     },
     "user_tz": -420
    },
    "id": "QiE0ql3Smc38",
    "outputId": "3bdc3761-767e-4e14-9ae7-5c2873848bef"
   },
   "outputs": [
    {
     "name": "stdout",
     "output_type": "stream",
     "text": [
      "[[1, 29, 167, 13, 713, 5, 7, 2, 22, 1, 50, 1, 18, 33, 311, 2, 38, 339, 2, 867, 4, 402, 499, 1, 3, 2, 61, 23, 81, 365, 1, 26, 9, 52, 38, 14, 48, 51, 2, 52], [76, 2, 22, 35, 113, 256]]\n"
     ]
    }
   ],
   "source": [
    "print(sequences[:2])"
   ]
  },
  {
   "cell_type": "code",
   "execution_count": 31,
   "metadata": {
    "executionInfo": {
     "elapsed": 7,
     "status": "ok",
     "timestamp": 1636796072195,
     "user": {
      "displayName": "Phuong Dam",
      "photoUrl": "https://lh3.googleusercontent.com/a/default-user=s64",
      "userId": "01072403895711103873"
     },
     "user_tz": -420
    },
    "id": "9llw6VM3mhGI"
   },
   "outputs": [],
   "source": [
    "# sequence_matrix[:2]"
   ]
  },
  {
   "cell_type": "markdown",
   "metadata": {
    "id": "Qww7sDVmraDB"
   },
   "source": [
    "# 3. Build RNN Network"
   ]
  },
  {
   "cell_type": "markdown",
   "metadata": {
    "id": "LyDERoCVtyv7"
   },
   "source": [
    "### 3.1 Model 1"
   ]
  },
  {
   "cell_type": "code",
   "execution_count": 32,
   "metadata": {
    "executionInfo": {
     "elapsed": 3603,
     "status": "ok",
     "timestamp": 1636796075792,
     "user": {
      "displayName": "Phuong Dam",
      "photoUrl": "https://lh3.googleusercontent.com/a/default-user=s64",
      "userId": "01072403895711103873"
     },
     "user_tz": -420
    },
    "id": "YyZ053JOrc-e"
   },
   "outputs": [],
   "source": [
    "model = Sequential()\n",
    "model.add(Embedding(max_words,50))\n",
    "model.add(LSTM(64))\n",
    "model.add(Dense(256, activation='relu'))\n",
    "model.add(Dropout(0.5))\n",
    "model.add(Dense(3, activation='softmax'))\n",
    "\n",
    "model.compile(loss='categorical_crossentropy',\n",
    "              optimizer=tf.keras.optimizers.RMSprop(),\n",
    "              metrics=['accuracy'])"
   ]
  },
  {
   "cell_type": "code",
   "execution_count": 33,
   "metadata": {
    "colab": {
     "base_uri": "https://localhost:8080/"
    },
    "executionInfo": {
     "elapsed": 13,
     "status": "ok",
     "timestamp": 1636796075793,
     "user": {
      "displayName": "Phuong Dam",
      "photoUrl": "https://lh3.googleusercontent.com/a/default-user=s64",
      "userId": "01072403895711103873"
     },
     "user_tz": -420
    },
    "id": "iiu0fz48rjd3",
    "outputId": "97ac7216-163d-468f-bf1f-aac20b688ee1"
   },
   "outputs": [
    {
     "name": "stdout",
     "output_type": "stream",
     "text": [
      "Model: \"sequential\"\n",
      "_________________________________________________________________\n",
      " Layer (type)                Output Shape              Param #   \n",
      "=================================================================\n",
      " embedding (Embedding)       (None, None, 50)          50000     \n",
      "                                                                 \n",
      " lstm (LSTM)                 (None, 64)                29440     \n",
      "                                                                 \n",
      " dense (Dense)               (None, 256)               16640     \n",
      "                                                                 \n",
      " dropout (Dropout)           (None, 256)               0         \n",
      "                                                                 \n",
      " dense_1 (Dense)             (None, 3)                 771       \n",
      "                                                                 \n",
      "=================================================================\n",
      "Total params: 96,851\n",
      "Trainable params: 96,851\n",
      "Non-trainable params: 0\n",
      "_________________________________________________________________\n"
     ]
    }
   ],
   "source": [
    "model.summary()"
   ]
  },
  {
   "cell_type": "code",
   "execution_count": 34,
   "metadata": {
    "colab": {
     "base_uri": "https://localhost:8080/",
     "height": 644
    },
    "executionInfo": {
     "elapsed": 626,
     "status": "ok",
     "timestamp": 1636796076411,
     "user": {
      "displayName": "Phuong Dam",
      "photoUrl": "https://lh3.googleusercontent.com/a/default-user=s64",
      "userId": "01072403895711103873"
     },
     "user_tz": -420
    },
    "id": "vlPEmvl8rlQ2",
    "outputId": "aca966d8-7d0c-42f7-939e-3449a40f8e5f"
   },
   "outputs": [
    {
     "data": {
      "image/png": "[encoded data removed]",
      "text/plain": [
       "<IPython.core.display.Image object>"
      ]
     },
     "execution_count": 34,
     "metadata": {},
     "output_type": "execute_result"
    }
   ],
   "source": [
    "from tensorflow.keras.utils import plot_model\n",
    "from IPython.display import Image\n",
    "plot_model(model, to_file='customer_sentiment_model.png', show_shapes=True)\n",
    "Image(filename='customer_sentiment_model.png')"
   ]
  },
  {
   "cell_type": "code",
   "execution_count": 35,
   "metadata": {
    "colab": {
     "base_uri": "https://localhost:8080/"
    },
    "collapsed": true,
    "executionInfo": {
     "elapsed": 234307,
     "status": "ok",
     "timestamp": 1636796310714,
     "user": {
      "displayName": "Phuong Dam",
      "photoUrl": "https://lh3.googleusercontent.com/a/default-user=s64",
      "userId": "01072403895711103873"
     },
     "user_tz": -420
    },
    "id": "MzIEy73Trsy4",
    "outputId": "7d5e502e-7dbb-4e61-a246-e6b747681d80"
   },
   "outputs": [
    {
     "name": "stdout",
     "output_type": "stream",
     "text": [
      "Epoch 1/50\n",
      "1219/1219 [==============================] - 19s 11ms/step - loss: 0.4914 - accuracy: 0.8141 - val_loss: 0.4512 - val_accuracy: 0.8223\n",
      "Epoch 2/50\n",
      "1219/1219 [==============================] - 13s 11ms/step - loss: 0.4316 - accuracy: 0.8312 - val_loss: 0.4163 - val_accuracy: 0.8369\n",
      "Epoch 3/50\n",
      "1219/1219 [==============================] - 13s 11ms/step - loss: 0.3988 - accuracy: 0.8426 - val_loss: 0.3976 - val_accuracy: 0.8439\n",
      "Epoch 4/50\n",
      "1219/1219 [==============================] - 13s 11ms/step - loss: 0.3828 - accuracy: 0.8481 - val_loss: 0.3834 - val_accuracy: 0.8479\n",
      "Epoch 5/50\n",
      "1219/1219 [==============================] - 13s 11ms/step - loss: 0.3730 - accuracy: 0.8523 - val_loss: 0.3861 - val_accuracy: 0.8496\n",
      "Epoch 6/50\n",
      "1219/1219 [==============================] - 13s 11ms/step - loss: 0.3667 - accuracy: 0.8546 - val_loss: 0.3768 - val_accuracy: 0.8465\n",
      "Epoch 7/50\n",
      "1219/1219 [==============================] - 13s 11ms/step - loss: 0.3603 - accuracy: 0.8566 - val_loss: 0.3750 - val_accuracy: 0.8486\n",
      "Epoch 8/50\n",
      "1219/1219 [==============================] - 14s 11ms/step - loss: 0.3547 - accuracy: 0.8589 - val_loss: 0.3722 - val_accuracy: 0.8542\n",
      "Epoch 9/50\n",
      "1219/1219 [==============================] - 13s 11ms/step - loss: 0.3488 - accuracy: 0.8609 - val_loss: 0.3729 - val_accuracy: 0.8525\n",
      "Epoch 10/50\n",
      "1219/1219 [==============================] - 14s 11ms/step - loss: 0.3443 - accuracy: 0.8627 - val_loss: 0.3796 - val_accuracy: 0.8460\n",
      "Epoch 11/50\n",
      "1219/1219 [==============================] - 14s 11ms/step - loss: 0.3387 - accuracy: 0.8640 - val_loss: 0.3750 - val_accuracy: 0.8528\n",
      "Epoch 12/50\n",
      "1219/1219 [==============================] - 14s 11ms/step - loss: 0.3345 - accuracy: 0.8666 - val_loss: 0.3693 - val_accuracy: 0.8544\n",
      "Epoch 13/50\n",
      "1219/1219 [==============================] - 13s 11ms/step - loss: 0.3304 - accuracy: 0.8686 - val_loss: 0.3732 - val_accuracy: 0.8520\n",
      "Epoch 14/50\n",
      "1219/1219 [==============================] - 13s 11ms/step - loss: 0.3261 - accuracy: 0.8689 - val_loss: 0.3806 - val_accuracy: 0.8528\n",
      "Epoch 15/50\n",
      "1219/1219 [==============================] - 14s 11ms/step - loss: 0.3220 - accuracy: 0.8710 - val_loss: 0.3721 - val_accuracy: 0.8544\n",
      "Epoch 16/50\n",
      "1219/1219 [==============================] - 14s 11ms/step - loss: 0.3170 - accuracy: 0.8722 - val_loss: 0.3843 - val_accuracy: 0.8554\n",
      "Epoch 17/50\n",
      "1219/1219 [==============================] - 14s 11ms/step - loss: 0.3127 - accuracy: 0.8740 - val_loss: 0.3894 - val_accuracy: 0.8541\n"
     ]
    }
   ],
   "source": [
    "history = model.fit(sequence_matrix, y_train,\n",
    "                    batch_size=128,\n",
    "                    epochs=50,\n",
    "                    validation_split=0.2,\n",
    "                    callbacks=[EarlyStopping(monitor='val_loss', patience=5)])"
   ]
  },
  {
   "cell_type": "code",
   "execution_count": 36,
   "metadata": {
    "colab": {
     "base_uri": "https://localhost:8080/",
     "height": 204
    },
    "executionInfo": {
     "elapsed": 32,
     "status": "ok",
     "timestamp": 1636796310716,
     "user": {
      "displayName": "Phuong Dam",
      "photoUrl": "https://lh3.googleusercontent.com/a/default-user=s64",
      "userId": "01072403895711103873"
     },
     "user_tz": -420
    },
    "id": "8bJmdSJcrxIk",
    "outputId": "f2fd2b50-cbe0-4fde-ce4d-b79dc7484c8d"
   },
   "outputs": [
    {
     "data": {
      "text/html": [
       "<div>\n",
       "<style scoped>\n",
       "    .dataframe tbody tr th:only-of-type {\n",
       "        vertical-align: middle;\n",
       "    }\n",
       "\n",
       "    .dataframe tbody tr th {\n",
       "        vertical-align: top;\n",
       "    }\n",
       "\n",
       "    .dataframe thead th {\n",
       "        text-align: right;\n",
       "    }\n",
       "</style>\n",
       "<table border=\"1\" class=\"dataframe\">\n",
       "  <thead>\n",
       "    <tr style=\"text-align: right;\">\n",
       "      <th></th>\n",
       "      <th>loss</th>\n",
       "      <th>accuracy</th>\n",
       "      <th>val_loss</th>\n",
       "      <th>val_accuracy</th>\n",
       "    </tr>\n",
       "  </thead>\n",
       "  <tbody>\n",
       "    <tr>\n",
       "      <th>12</th>\n",
       "      <td>0.330381</td>\n",
       "      <td>0.868620</td>\n",
       "      <td>0.373201</td>\n",
       "      <td>0.852000</td>\n",
       "    </tr>\n",
       "    <tr>\n",
       "      <th>13</th>\n",
       "      <td>0.326145</td>\n",
       "      <td>0.868934</td>\n",
       "      <td>0.380632</td>\n",
       "      <td>0.852846</td>\n",
       "    </tr>\n",
       "    <tr>\n",
       "      <th>14</th>\n",
       "      <td>0.322046</td>\n",
       "      <td>0.870960</td>\n",
       "      <td>0.372088</td>\n",
       "      <td>0.854410</td>\n",
       "    </tr>\n",
       "    <tr>\n",
       "      <th>15</th>\n",
       "      <td>0.316972</td>\n",
       "      <td>0.872242</td>\n",
       "      <td>0.384262</td>\n",
       "      <td>0.855385</td>\n",
       "    </tr>\n",
       "    <tr>\n",
       "      <th>16</th>\n",
       "      <td>0.312727</td>\n",
       "      <td>0.874005</td>\n",
       "      <td>0.389417</td>\n",
       "      <td>0.854051</td>\n",
       "    </tr>\n",
       "  </tbody>\n",
       "</table>\n",
       "</div>"
      ],
      "text/plain": [
       "        loss  accuracy  val_loss  val_accuracy\n",
       "12  0.330381  0.868620  0.373201      0.852000\n",
       "13  0.326145  0.868934  0.380632      0.852846\n",
       "14  0.322046  0.870960  0.372088      0.854410\n",
       "15  0.316972  0.872242  0.384262      0.855385\n",
       "16  0.312727  0.874005  0.389417      0.854051"
      ]
     },
     "execution_count": 36,
     "metadata": {},
     "output_type": "execute_result"
    }
   ],
   "source": [
    "history_df = pd.DataFrame(history.history)\n",
    "history_df.tail()"
   ]
  },
  {
   "cell_type": "code",
   "execution_count": 37,
   "metadata": {
    "colab": {
     "base_uri": "https://localhost:8080/",
     "height": 323
    },
    "executionInfo": {
     "elapsed": 17,
     "status": "ok",
     "timestamp": 1636796310717,
     "user": {
      "displayName": "Phuong Dam",
      "photoUrl": "https://lh3.googleusercontent.com/a/default-user=s64",
      "userId": "01072403895711103873"
     },
     "user_tz": -420
    },
    "id": "PAPYqd-B3LBs",
    "outputId": "9e5111b9-321c-4b4a-c44c-62d225ed3b47"
   },
   "outputs": [
    {
     "data": {
      "image/png": "[encoded data removed]",
      "text/plain": [
       "<Figure size 720x360 with 2 Axes>"
      ]
     },
     "metadata": {
      "needs_background": "light"
     },
     "output_type": "display_data"
    }
   ],
   "source": [
    "plt.figure(figsize=(10, 5))\n",
    "plt.subplot(1, 2, 1)\n",
    "plt.plot(history_df.accuracy, label='accuracy')\n",
    "plt.plot(history_df.val_accuracy, label='val_accuracy')\n",
    "plt.legend()\n",
    "plt.subplot(1, 2, 2)\n",
    "plt.plot(history_df.loss, label='loss')\n",
    "plt.plot(history_df.val_loss, label='val_loss')\n",
    "plt.legend()\n",
    "plt.show()"
   ]
  },
  {
   "cell_type": "code",
   "execution_count": 38,
   "metadata": {
    "executionInfo": {
     "elapsed": 4518,
     "status": "ok",
     "timestamp": 1636796315220,
     "user": {
      "displayName": "Phuong Dam",
      "photoUrl": "https://lh3.googleusercontent.com/a/default-user=s64",
      "userId": "01072403895711103873"
     },
     "user_tz": -420
    },
    "id": "AxQhkIozrzai"
   },
   "outputs": [],
   "source": [
    "# test\n",
    "test_sequence = tok.texts_to_sequences(X_test)\n",
    "test_sequence_matrix = sequence.pad_sequences(test_sequence, maxlen=max_len)"
   ]
  },
  {
   "cell_type": "code",
   "execution_count": 39,
   "metadata": {
    "colab": {
     "base_uri": "https://localhost:8080/"
    },
    "executionInfo": {
     "elapsed": 11256,
     "status": "ok",
     "timestamp": 1636796326455,
     "user": {
      "displayName": "Phuong Dam",
      "photoUrl": "https://lh3.googleusercontent.com/a/default-user=s64",
      "userId": "01072403895711103873"
     },
     "user_tz": -420
    },
    "id": "YtDNlaPmr1rd",
    "outputId": "f479da61-07d2-4f06-d4f4-680446061d5a"
   },
   "outputs": [
    {
     "name": "stdout",
     "output_type": "stream",
     "text": [
      "2612/2612 [==============================] - 11s 4ms/step - loss: 0.3851 - accuracy: 0.8552\n",
      "Test set\n",
      " -Loss: 0.385\n",
      " -Accuracy: 0.855\n"
     ]
    }
   ],
   "source": [
    "accr = model.evaluate(test_sequence_matrix, y_test)\n",
    "print('Test set\\n -Loss: {:0.3f}\\n -Accuracy: {:0.3f}'.format(accr[0], accr[1]))"
   ]
  },
  {
   "cell_type": "code",
   "execution_count": 40,
   "metadata": {
    "executionInfo": {
     "elapsed": 32,
     "status": "ok",
     "timestamp": 1636796326885,
     "user": {
      "displayName": "Phuong Dam",
      "photoUrl": "https://lh3.googleusercontent.com/a/default-user=s64",
      "userId": "01072403895711103873"
     },
     "user_tz": -420
    },
    "id": "vkPphUOUr5ED"
   },
   "outputs": [],
   "source": [
    "# Save the result\n",
    "model.save('customer_sentiment1.h5')"
   ]
  },
  {
   "cell_type": "markdown",
   "metadata": {
    "id": "mQRdV6v-uQYR"
   },
   "source": [
    "### 3.2 Model2"
   ]
  },
  {
   "cell_type": "code",
   "execution_count": 125,
   "metadata": {
    "executionInfo": {
     "elapsed": 20176,
     "status": "ok",
     "timestamp": 1636800908740,
     "user": {
      "displayName": "Phuong Dam",
      "photoUrl": "https://lh3.googleusercontent.com/a/default-user=s64",
      "userId": "01072403895711103873"
     },
     "user_tz": -420
    },
    "id": "HXr1Zko9uO7N"
   },
   "outputs": [],
   "source": [
    "max_words = 5000\n",
    "max_len = 120\n",
    "tok = Tokenizer(num_words=max_words,\n",
    "                filters='!\"#$%&()*+,-./:;<=>?@[\\\\]^_`{|}~\\t\\n\\S+|https?:\\S+|http?:\\S|[^A-Za-z0-9]+',\n",
    "                lower=True, \n",
    "                split=' ')\n",
    "tok.fit_on_texts(X_train)\n",
    "\n",
    "sequences = tok.texts_to_sequences(X_train) \n",
    "sequence_matrix = sequence.pad_sequences(sequences, maxlen=max_len) "
   ]
  },
  {
   "cell_type": "code",
   "execution_count": 126,
   "metadata": {
    "executionInfo": {
     "elapsed": 21,
     "status": "ok",
     "timestamp": 1636800908742,
     "user": {
      "displayName": "Phuong Dam",
      "photoUrl": "https://lh3.googleusercontent.com/a/default-user=s64",
      "userId": "01072403895711103873"
     },
     "user_tz": -420
    },
    "id": "XI3VXdt8o375"
   },
   "outputs": [],
   "source": [
    "model2 = Sequential()\n",
    "model2.add(Embedding(max_words,50))\n",
    "model2.add(LSTM(64))\n",
    "model2.add(Dense(256, activation='relu'))\n",
    "model2.add(Dropout(0.5))\n",
    "model2.add(Dense(3, activation='softmax'))\n",
    "\n",
    "model2.compile(loss='categorical_crossentropy',\n",
    "              optimizer=tf.keras.optimizers.RMSprop(),\n",
    "              metrics=['accuracy'])"
   ]
  },
  {
   "cell_type": "code",
   "execution_count": 127,
   "metadata": {
    "colab": {
     "base_uri": "https://localhost:8080/"
    },
    "executionInfo": {
     "elapsed": 15,
     "status": "ok",
     "timestamp": 1636800908742,
     "user": {
      "displayName": "Phuong Dam",
      "photoUrl": "https://lh3.googleusercontent.com/a/default-user=s64",
      "userId": "01072403895711103873"
     },
     "user_tz": -420
    },
    "id": "uHKc-XtHo7sT",
    "outputId": "10456547-f1d3-49d2-f94a-2438c7e1d540"
   },
   "outputs": [
    {
     "name": "stdout",
     "output_type": "stream",
     "text": [
      "Model: \"sequential_11\"\n",
      "_________________________________________________________________\n",
      " Layer (type)                Output Shape              Param #   \n",
      "=================================================================\n",
      " embedding_11 (Embedding)    (None, None, 50)          250000    \n",
      "                                                                 \n",
      " lstm_10 (LSTM)              (None, 64)                29440     \n",
      "                                                                 \n",
      " dense_23 (Dense)            (None, 256)               16640     \n",
      "                                                                 \n",
      " dropout_10 (Dropout)        (None, 256)               0         \n",
      "                                                                 \n",
      " dense_24 (Dense)            (None, 3)                 771       \n",
      "                                                                 \n",
      "=================================================================\n",
      "Total params: 296,851\n",
      "Trainable params: 296,851\n",
      "Non-trainable params: 0\n",
      "_________________________________________________________________\n"
     ]
    }
   ],
   "source": [
    "model2.summary()"
   ]
  },
  {
   "cell_type": "code",
   "execution_count": 128,
   "metadata": {
    "colab": {
     "base_uri": "https://localhost:8080/",
     "height": 644
    },
    "executionInfo": {
     "elapsed": 755,
     "status": "ok",
     "timestamp": 1636800909487,
     "user": {
      "displayName": "Phuong Dam",
      "photoUrl": "https://lh3.googleusercontent.com/a/default-user=s64",
      "userId": "01072403895711103873"
     },
     "user_tz": -420
    },
    "id": "U-iMmRNhpACs",
    "outputId": "43632a0b-9cc1-454a-8186-7c2133026d91"
   },
   "outputs": [
    {
     "data": {
      "image/png": "[encoded data removed]",
      "text/plain": [
       "<IPython.core.display.Image object>"
      ]
     },
     "execution_count": 128,
     "metadata": {},
     "output_type": "execute_result"
    }
   ],
   "source": [
    "from tensorflow.keras.utils import plot_model\n",
    "from IPython.display import Image\n",
    "plot_model(model, to_file='customer_sentiment_model2.png', show_shapes=True)\n",
    "Image(filename='customer_sentiment_model2.png')"
   ]
  },
  {
   "cell_type": "code",
   "execution_count": 136,
   "metadata": {
    "colab": {
     "base_uri": "https://localhost:8080/"
    },
    "executionInfo": {
     "elapsed": 195142,
     "status": "ok",
     "timestamp": 1636801563279,
     "user": {
      "displayName": "Phuong Dam",
      "photoUrl": "https://lh3.googleusercontent.com/a/default-user=s64",
      "userId": "01072403895711103873"
     },
     "user_tz": -420
    },
    "id": "W2HlK7ztpHWD",
    "outputId": "f4c8f3fc-c204-431d-90ab-f6f9e5aa0ab5"
   },
   "outputs": [
    {
     "name": "stdout",
     "output_type": "stream",
     "text": [
      "Epoch 1/50\n",
      "2133/2133 [==============================] - 19s 9ms/step - loss: 0.3158 - accuracy: 0.8753 - val_loss: 0.4261 - val_accuracy: 0.8439\n",
      "Epoch 2/50\n",
      "2133/2133 [==============================] - 19s 9ms/step - loss: 0.3185 - accuracy: 0.8747 - val_loss: 0.4262 - val_accuracy: 0.8337\n",
      "Epoch 3/50\n",
      "2133/2133 [==============================] - 19s 9ms/step - loss: 0.3151 - accuracy: 0.8757 - val_loss: 0.4167 - val_accuracy: 0.8472\n",
      "Epoch 4/50\n",
      "2133/2133 [==============================] - 19s 9ms/step - loss: 0.3119 - accuracy: 0.8777 - val_loss: 0.4181 - val_accuracy: 0.8494\n",
      "Epoch 5/50\n",
      "2133/2133 [==============================] - 20s 9ms/step - loss: 0.3088 - accuracy: 0.8788 - val_loss: 0.4047 - val_accuracy: 0.8471\n",
      "Epoch 6/50\n",
      "2133/2133 [==============================] - 19s 9ms/step - loss: 0.3042 - accuracy: 0.8812 - val_loss: 0.4175 - val_accuracy: 0.8444\n",
      "Epoch 7/50\n",
      "2133/2133 [==============================] - 19s 9ms/step - loss: 0.2991 - accuracy: 0.8833 - val_loss: 0.4295 - val_accuracy: 0.8452\n",
      "Epoch 8/50\n",
      "2133/2133 [==============================] - 19s 9ms/step - loss: 0.2936 - accuracy: 0.8866 - val_loss: 0.4286 - val_accuracy: 0.8480\n",
      "Epoch 9/50\n",
      "2133/2133 [==============================] - 19s 9ms/step - loss: 0.2896 - accuracy: 0.8873 - val_loss: 0.4336 - val_accuracy: 0.8358\n",
      "Epoch 10/50\n",
      "2133/2133 [==============================] - 19s 9ms/step - loss: 0.2838 - accuracy: 0.8906 - val_loss: 0.4421 - val_accuracy: 0.8298\n"
     ]
    }
   ],
   "source": [
    "history2 = model2.fit(sequence_matrix, y_train,\n",
    "                    batch_size=64,\n",
    "                    epochs=50,\n",
    "                    validation_split=0.3,\n",
    "                    callbacks=[EarlyStopping(monitor='val_loss', patience=5)])"
   ]
  },
  {
   "cell_type": "code",
   "execution_count": 137,
   "metadata": {
    "colab": {
     "base_uri": "https://localhost:8080/",
     "height": 204
    },
    "executionInfo": {
     "elapsed": 337,
     "status": "ok",
     "timestamp": 1636802912427,
     "user": {
      "displayName": "Phuong Dam",
      "photoUrl": "https://lh3.googleusercontent.com/a/default-user=s64",
      "userId": "01072403895711103873"
     },
     "user_tz": -420
    },
    "id": "8V0MF1H7pHQa",
    "outputId": "da9e4804-70c2-4dde-cc71-047b3b0d9831"
   },
   "outputs": [
    {
     "data": {
      "text/html": [
       "<div>\n",
       "<style scoped>\n",
       "    .dataframe tbody tr th:only-of-type {\n",
       "        vertical-align: middle;\n",
       "    }\n",
       "\n",
       "    .dataframe tbody tr th {\n",
       "        vertical-align: top;\n",
       "    }\n",
       "\n",
       "    .dataframe thead th {\n",
       "        text-align: right;\n",
       "    }\n",
       "</style>\n",
       "<table border=\"1\" class=\"dataframe\">\n",
       "  <thead>\n",
       "    <tr style=\"text-align: right;\">\n",
       "      <th></th>\n",
       "      <th>loss</th>\n",
       "      <th>accuracy</th>\n",
       "      <th>val_loss</th>\n",
       "      <th>val_accuracy</th>\n",
       "    </tr>\n",
       "  </thead>\n",
       "  <tbody>\n",
       "    <tr>\n",
       "      <th>5</th>\n",
       "      <td>0.304217</td>\n",
       "      <td>0.881200</td>\n",
       "      <td>0.417478</td>\n",
       "      <td>0.844376</td>\n",
       "    </tr>\n",
       "    <tr>\n",
       "      <th>6</th>\n",
       "      <td>0.299102</td>\n",
       "      <td>0.883346</td>\n",
       "      <td>0.429465</td>\n",
       "      <td>0.845179</td>\n",
       "    </tr>\n",
       "    <tr>\n",
       "      <th>7</th>\n",
       "      <td>0.293587</td>\n",
       "      <td>0.886562</td>\n",
       "      <td>0.428577</td>\n",
       "      <td>0.848017</td>\n",
       "    </tr>\n",
       "    <tr>\n",
       "      <th>8</th>\n",
       "      <td>0.289617</td>\n",
       "      <td>0.887310</td>\n",
       "      <td>0.433553</td>\n",
       "      <td>0.835829</td>\n",
       "    </tr>\n",
       "    <tr>\n",
       "      <th>9</th>\n",
       "      <td>0.283781</td>\n",
       "      <td>0.890592</td>\n",
       "      <td>0.442094</td>\n",
       "      <td>0.829795</td>\n",
       "    </tr>\n",
       "  </tbody>\n",
       "</table>\n",
       "</div>"
      ],
      "text/plain": [
       "       loss  accuracy  val_loss  val_accuracy\n",
       "5  0.304217  0.881200  0.417478      0.844376\n",
       "6  0.299102  0.883346  0.429465      0.845179\n",
       "7  0.293587  0.886562  0.428577      0.848017\n",
       "8  0.289617  0.887310  0.433553      0.835829\n",
       "9  0.283781  0.890592  0.442094      0.829795"
      ]
     },
     "execution_count": 137,
     "metadata": {},
     "output_type": "execute_result"
    }
   ],
   "source": [
    "history2_df = pd.DataFrame(history2.history)\n",
    "history2_df.tail()"
   ]
  },
  {
   "cell_type": "code",
   "execution_count": 139,
   "metadata": {
    "colab": {
     "base_uri": "https://localhost:8080/",
     "height": 320
    },
    "executionInfo": {
     "elapsed": 462,
     "status": "ok",
     "timestamp": 1636802954327,
     "user": {
      "displayName": "Phuong Dam",
      "photoUrl": "https://lh3.googleusercontent.com/a/default-user=s64",
      "userId": "01072403895711103873"
     },
     "user_tz": -420
    },
    "id": "Qe7AuxffDtDh",
    "outputId": "1ff8a276-f41d-438d-8155-1399ac1b8730"
   },
   "outputs": [
    {
     "data": {
      "image/png": "[encoded data removed]",
      "text/plain": [
       "<Figure size 720x360 with 2 Axes>"
      ]
     },
     "metadata": {
      "needs_background": "light"
     },
     "output_type": "display_data"
    }
   ],
   "source": [
    "plt.figure(figsize=(10, 5))\n",
    "plt.subplot(1, 2, 1)\n",
    "plt.plot(history2_df.accuracy, label='accuracy')\n",
    "plt.plot(history2_df.val_accuracy, label='val_accuracy')\n",
    "plt.legend()\n",
    "plt.subplot(1, 2, 2)\n",
    "plt.plot(history2_df.loss, label='loss')\n",
    "plt.plot(history2_df.val_loss, label='val_loss')\n",
    "plt.legend()\n",
    "plt.show()"
   ]
  },
  {
   "cell_type": "code",
   "execution_count": 138,
   "metadata": {
    "colab": {
     "base_uri": "https://localhost:8080/"
    },
    "executionInfo": {
     "elapsed": 15236,
     "status": "ok",
     "timestamp": 1636802931416,
     "user": {
      "displayName": "Phuong Dam",
      "photoUrl": "https://lh3.googleusercontent.com/a/default-user=s64",
      "userId": "01072403895711103873"
     },
     "user_tz": -420
    },
    "id": "sUslk4eIpHE6",
    "outputId": "b5a36b3c-fd19-47cc-c24c-3f8eb22fafae"
   },
   "outputs": [
    {
     "name": "stdout",
     "output_type": "stream",
     "text": [
      "2612/2612 [==============================] - 10s 4ms/step - loss: 0.4439 - accuracy: 0.8299\n",
      "Test set\n",
      " -Loss: 0.444\n",
      " -Accuracy: 0.830\n"
     ]
    }
   ],
   "source": [
    "# test\n",
    "test_sequence = tok.texts_to_sequences(X_test)\n",
    "test_sequence_matrix = sequence.pad_sequences(test_sequence, maxlen=max_len)\n",
    "accr = model2.evaluate(test_sequence_matrix, y_test)\n",
    "print('Test set\\n -Loss: {:0.3f}\\n -Accuracy: {:0.3f}'.format(accr[0], accr[1]))"
   ]
  },
  {
   "cell_type": "code",
   "execution_count": 132,
   "metadata": {
    "executionInfo": {
     "elapsed": 14,
     "status": "ok",
     "timestamp": 1636800980321,
     "user": {
      "displayName": "Phuong Dam",
      "photoUrl": "https://lh3.googleusercontent.com/a/default-user=s64",
      "userId": "01072403895711103873"
     },
     "user_tz": -420
    },
    "id": "BbXVMkVrv2v0"
   },
   "outputs": [],
   "source": [
    "# Save the result\n",
    "# model2.save('customer_sentiment2.h5')"
   ]
  },
  {
   "cell_type": "markdown",
   "metadata": {
    "id": "SryzVBtbEMda"
   },
   "source": [
    "### 3.3 Model 3\n",
    "- Làm sạch dữ liệu kỹ hơn: stopwords, Lematization"
   ]
  },
  {
   "cell_type": "code",
   "execution_count": 147,
   "metadata": {
    "colab": {
     "base_uri": "https://localhost:8080/"
    },
    "executionInfo": {
     "elapsed": 352,
     "status": "ok",
     "timestamp": 1636803318314,
     "user": {
      "displayName": "Phuong Dam",
      "photoUrl": "https://lh3.googleusercontent.com/a/default-user=s64",
      "userId": "01072403895711103873"
     },
     "user_tz": -420
    },
    "id": "M7MVtvreEhuF",
    "outputId": "e9e018eb-6f96-4d88-ec0f-5021373c230a"
   },
   "outputs": [
    {
     "name": "stdout",
     "output_type": "stream",
     "text": [
      "[nltk_data] Downloading package stopwords to /root/nltk_data...\n",
      "[nltk_data]   Package stopwords is already up-to-date!\n"
     ]
    }
   ],
   "source": [
    "import nltk \n",
    "nltk.download('stopwords')\n",
    "from nltk.corpus import stopwords\n",
    "from nltk.stem import SnowballStemmer\n",
    "import re"
   ]
  },
  {
   "cell_type": "code",
   "execution_count": 142,
   "metadata": {
    "executionInfo": {
     "elapsed": 447,
     "status": "ok",
     "timestamp": 1636803218699,
     "user": {
      "displayName": "Phuong Dam",
      "photoUrl": "https://lh3.googleusercontent.com/a/default-user=s64",
      "userId": "01072403895711103873"
     },
     "user_tz": -420
    },
    "id": "EIKUqrpzESFO"
   },
   "outputs": [],
   "source": [
    "stop_words = stopwords.words('english')\n",
    "stemmer = SnowballStemmer('english')\n",
    "\n",
    "text_cleaning_re = \"@\\S+|https?:\\S+|http?:\\S|[^A-Za-z0-9]+\""
   ]
  },
  {
   "cell_type": "code",
   "execution_count": 143,
   "metadata": {
    "executionInfo": {
     "elapsed": 4,
     "status": "ok",
     "timestamp": 1636803220049,
     "user": {
      "displayName": "Phuong Dam",
      "photoUrl": "https://lh3.googleusercontent.com/a/default-user=s64",
      "userId": "01072403895711103873"
     },
     "user_tz": -420
    },
    "id": "Gv_uc2K0EgVZ"
   },
   "outputs": [],
   "source": [
    "def preprocess(text, stem=False):\n",
    "  text = re.sub(text_cleaning_re, ' ', str(text).lower()).strip()\n",
    "  tokens = []\n",
    "  for token in text.split():\n",
    "    if token not in stop_words:\n",
    "      if stem:\n",
    "        tokens.append(stemmer.stem(token))\n",
    "      else:\n",
    "        tokens.append(token)\n",
    "  return \" \".join(tokens)"
   ]
  },
  {
   "cell_type": "code",
   "execution_count": 144,
   "metadata": {
    "colab": {
     "base_uri": "https://localhost:8080/",
     "height": 204
    },
    "executionInfo": {
     "elapsed": 334,
     "status": "ok",
     "timestamp": 1636803249981,
     "user": {
      "displayName": "Phuong Dam",
      "photoUrl": "https://lh3.googleusercontent.com/a/default-user=s64",
      "userId": "01072403895711103873"
     },
     "user_tz": -420
    },
    "id": "Gpl2qrp2E366",
    "outputId": "4fd7c132-e494-4c74-94e7-3c0fbcad6926"
   },
   "outputs": [
    {
     "data": {
      "text/html": [
       "<div>\n",
       "<style scoped>\n",
       "    .dataframe tbody tr th:only-of-type {\n",
       "        vertical-align: middle;\n",
       "    }\n",
       "\n",
       "    .dataframe tbody tr th {\n",
       "        vertical-align: top;\n",
       "    }\n",
       "\n",
       "    .dataframe thead th {\n",
       "        text-align: right;\n",
       "    }\n",
       "</style>\n",
       "<table border=\"1\" class=\"dataframe\">\n",
       "  <thead>\n",
       "    <tr style=\"text-align: right;\">\n",
       "      <th></th>\n",
       "      <th>reviewText</th>\n",
       "      <th>overall</th>\n",
       "    </tr>\n",
       "  </thead>\n",
       "  <tbody>\n",
       "    <tr>\n",
       "      <th>0</th>\n",
       "      <td>This is a great tutu and at a really great pri...</td>\n",
       "      <td>5</td>\n",
       "    </tr>\n",
       "    <tr>\n",
       "      <th>1</th>\n",
       "      <td>I bought this for my 4 yr old daughter for dan...</td>\n",
       "      <td>5</td>\n",
       "    </tr>\n",
       "    <tr>\n",
       "      <th>2</th>\n",
       "      <td>What can I say... my daughters have it in oran...</td>\n",
       "      <td>5</td>\n",
       "    </tr>\n",
       "    <tr>\n",
       "      <th>3</th>\n",
       "      <td>We bought several tutus at once, and they are ...</td>\n",
       "      <td>5</td>\n",
       "    </tr>\n",
       "    <tr>\n",
       "      <th>4</th>\n",
       "      <td>Thank you Halo Heaven great product for Little...</td>\n",
       "      <td>5</td>\n",
       "    </tr>\n",
       "  </tbody>\n",
       "</table>\n",
       "</div>"
      ],
      "text/plain": [
       "                                          reviewText  overall\n",
       "0  This is a great tutu and at a really great pri...        5\n",
       "1  I bought this for my 4 yr old daughter for dan...        5\n",
       "2  What can I say... my daughters have it in oran...        5\n",
       "3  We bought several tutus at once, and they are ...        5\n",
       "4  Thank you Halo Heaven great product for Little...        5"
      ]
     },
     "execution_count": 144,
     "metadata": {},
     "output_type": "execute_result"
    }
   ],
   "source": [
    "df = data[['reviewText','overall']]\n",
    "df.head()"
   ]
  },
  {
   "cell_type": "code",
   "execution_count": 145,
   "metadata": {
    "executionInfo": {
     "elapsed": 331,
     "status": "ok",
     "timestamp": 1636803293140,
     "user": {
      "displayName": "Phuong Dam",
      "photoUrl": "https://lh3.googleusercontent.com/a/default-user=s64",
      "userId": "01072403895711103873"
     },
     "user_tz": -420
    },
    "id": "Ht8H1fUHFAMa"
   },
   "outputs": [],
   "source": [
    "df_new = df.copy()"
   ]
  },
  {
   "cell_type": "code",
   "execution_count": 148,
   "metadata": {
    "executionInfo": {
     "elapsed": 37308,
     "status": "ok",
     "timestamp": 1636803359802,
     "user": {
      "displayName": "Phuong Dam",
      "photoUrl": "https://lh3.googleusercontent.com/a/default-user=s64",
      "userId": "01072403895711103873"
     },
     "user_tz": -420
    },
    "id": "jvKco_e9EqV8"
   },
   "outputs": [],
   "source": [
    "df_new.reviewText = df_new.reviewText.apply(lambda x: preprocess(x))"
   ]
  },
  {
   "cell_type": "code",
   "execution_count": 149,
   "metadata": {
    "colab": {
     "base_uri": "https://localhost:8080/",
     "height": 204
    },
    "executionInfo": {
     "elapsed": 411,
     "status": "ok",
     "timestamp": 1636803403841,
     "user": {
      "displayName": "Phuong Dam",
      "photoUrl": "https://lh3.googleusercontent.com/a/default-user=s64",
      "userId": "01072403895711103873"
     },
     "user_tz": -420
    },
    "id": "1pw30UpoFGrI",
    "outputId": "ac46e06a-c749-4a60-c1de-36f0857c0cfd"
   },
   "outputs": [
    {
     "data": {
      "text/html": [
       "<div>\n",
       "<style scoped>\n",
       "    .dataframe tbody tr th:only-of-type {\n",
       "        vertical-align: middle;\n",
       "    }\n",
       "\n",
       "    .dataframe tbody tr th {\n",
       "        vertical-align: top;\n",
       "    }\n",
       "\n",
       "    .dataframe thead th {\n",
       "        text-align: right;\n",
       "    }\n",
       "</style>\n",
       "<table border=\"1\" class=\"dataframe\">\n",
       "  <thead>\n",
       "    <tr style=\"text-align: right;\">\n",
       "      <th></th>\n",
       "      <th>reviewText</th>\n",
       "      <th>overall</th>\n",
       "    </tr>\n",
       "  </thead>\n",
       "  <tbody>\n",
       "    <tr>\n",
       "      <th>0</th>\n",
       "      <td>great tutu really great price look cheap glad ...</td>\n",
       "      <td>5</td>\n",
       "    </tr>\n",
       "    <tr>\n",
       "      <th>1</th>\n",
       "      <td>bought 4 yr old daughter dance class wore toda...</td>\n",
       "      <td>5</td>\n",
       "    </tr>\n",
       "    <tr>\n",
       "      <th>2</th>\n",
       "      <td>say daughters orange black white pink thinking...</td>\n",
       "      <td>5</td>\n",
       "    </tr>\n",
       "    <tr>\n",
       "      <th>3</th>\n",
       "      <td>bought several tutus got high reviews sturdy s...</td>\n",
       "      <td>5</td>\n",
       "    </tr>\n",
       "    <tr>\n",
       "      <th>4</th>\n",
       "      <td>thank halo heaven great product little girls g...</td>\n",
       "      <td>5</td>\n",
       "    </tr>\n",
       "  </tbody>\n",
       "</table>\n",
       "</div>"
      ],
      "text/plain": [
       "                                          reviewText  overall\n",
       "0  great tutu really great price look cheap glad ...        5\n",
       "1  bought 4 yr old daughter dance class wore toda...        5\n",
       "2  say daughters orange black white pink thinking...        5\n",
       "3  bought several tutus got high reviews sturdy s...        5\n",
       "4  thank halo heaven great product little girls g...        5"
      ]
     },
     "execution_count": 149,
     "metadata": {},
     "output_type": "execute_result"
    }
   ],
   "source": [
    "df_new.head()"
   ]
  },
  {
   "cell_type": "code",
   "execution_count": 152,
   "metadata": {
    "executionInfo": {
     "elapsed": 297,
     "status": "ok",
     "timestamp": 1636803680615,
     "user": {
      "displayName": "Phuong Dam",
      "photoUrl": "https://lh3.googleusercontent.com/a/default-user=s64",
      "userId": "01072403895711103873"
     },
     "user_tz": -420
    },
    "id": "WOEXm_aEGeoC"
   },
   "outputs": [],
   "source": [
    "# nhóm đánh giá thành 3 class (Like-2: 4&5 stars, Neutral-1: 3 stars, Dislike-0: 1&2 stars)\n",
    "df_new.overall = df_new.overall.apply(lambda x: 2 if (x>3) else (1 if x==3 else 0))"
   ]
  },
  {
   "cell_type": "code",
   "execution_count": 153,
   "metadata": {
    "executionInfo": {
     "elapsed": 409,
     "status": "ok",
     "timestamp": 1636803683269,
     "user": {
      "displayName": "Phuong Dam",
      "photoUrl": "https://lh3.googleusercontent.com/a/default-user=s64",
      "userId": "01072403895711103873"
     },
     "user_tz": -420
    },
    "id": "FyRA_OA3F2pr"
   },
   "outputs": [],
   "source": [
    "# Split input & output\n",
    "X_new = df_new.reviewText\n",
    "Y_new = df_new.overall"
   ]
  },
  {
   "cell_type": "code",
   "execution_count": 154,
   "metadata": {
    "executionInfo": {
     "elapsed": 10,
     "status": "ok",
     "timestamp": 1636803684430,
     "user": {
      "displayName": "Phuong Dam",
      "photoUrl": "https://lh3.googleusercontent.com/a/default-user=s64",
      "userId": "01072403895711103873"
     },
     "user_tz": -420
    },
    "id": "hfon3VC2F69i"
   },
   "outputs": [],
   "source": [
    "Y_new = to_categorical(Y_new, 3, dtype =\"uint8\")\n",
    "Y_new = pd.DataFrame(Y_new)\n",
    "X_new_train, X_new_test, y_new_train, y_new_test = train_test_split(X_new, Y_new, test_size=0.3)"
   ]
  },
  {
   "cell_type": "code",
   "execution_count": 155,
   "metadata": {
    "executionInfo": {
     "elapsed": 14244,
     "status": "ok",
     "timestamp": 1636803713567,
     "user": {
      "displayName": "Phuong Dam",
      "photoUrl": "https://lh3.googleusercontent.com/a/default-user=s64",
      "userId": "01072403895711103873"
     },
     "user_tz": -420
    },
    "id": "imBK3yzUFdzM"
   },
   "outputs": [],
   "source": [
    "max_words = 5000\n",
    "max_len = 120\n",
    "tok = Tokenizer(num_words=max_words,\n",
    "                filters='!\"#$%&()*+,-./:;<=>?@[\\\\]^_`{|}~\\t\\n\\S+|https?:\\S+|http?:\\S|[^A-Za-z0-9]+',\n",
    "                lower=True, \n",
    "                split=' ')\n",
    "tok.fit_on_texts(X_new_train)\n",
    "\n",
    "sequences = tok.texts_to_sequences(X_new_train) \n",
    "sequence_matrix = sequence.pad_sequences(sequences, maxlen=max_len) "
   ]
  },
  {
   "cell_type": "code",
   "execution_count": 174,
   "metadata": {
    "executionInfo": {
     "elapsed": 349,
     "status": "ok",
     "timestamp": 1636804458805,
     "user": {
      "displayName": "Phuong Dam",
      "photoUrl": "https://lh3.googleusercontent.com/a/default-user=s64",
      "userId": "01072403895711103873"
     },
     "user_tz": -420
    },
    "id": "tTwYJIE8Gl6t"
   },
   "outputs": [],
   "source": [
    "model3 = Sequential()\n",
    "model3.add(Embedding(max_words,50))\n",
    "model3.add(LSTM(64))\n",
    "model3.add(Dense(256, activation='relu'))\n",
    "model3.add(Dropout(0.5))\n",
    "model3.add(Dense(256, activation='relu'))\n",
    "model3.add(Dropout(0.5))\n",
    "model3.add(Dense(256, activation='relu'))\n",
    "model3.add(Dropout(0.5))\n",
    "model3.add(Dense(3, activation='softmax'))\n",
    "\n",
    "model3.compile(loss='categorical_crossentropy',\n",
    "              optimizer=tf.keras.optimizers.RMSprop(),\n",
    "              metrics=['accuracy'])"
   ]
  },
  {
   "cell_type": "code",
   "execution_count": 175,
   "metadata": {
    "colab": {
     "base_uri": "https://localhost:8080/"
    },
    "executionInfo": {
     "elapsed": 12,
     "status": "ok",
     "timestamp": 1636804459326,
     "user": {
      "displayName": "Phuong Dam",
      "photoUrl": "https://lh3.googleusercontent.com/a/default-user=s64",
      "userId": "01072403895711103873"
     },
     "user_tz": -420
    },
    "id": "KhPJCwlhGvca",
    "outputId": "5a96864f-a65c-4a83-e0dd-0b0cb0d969f2"
   },
   "outputs": [
    {
     "name": "stdout",
     "output_type": "stream",
     "text": [
      "Model: \"sequential_14\"\n",
      "_________________________________________________________________\n",
      " Layer (type)                Output Shape              Param #   \n",
      "=================================================================\n",
      " embedding_14 (Embedding)    (None, None, 50)          250000    \n",
      "                                                                 \n",
      " lstm_13 (LSTM)              (None, 64)                29440     \n",
      "                                                                 \n",
      " dense_30 (Dense)            (None, 256)               16640     \n",
      "                                                                 \n",
      " dropout_14 (Dropout)        (None, 256)               0         \n",
      "                                                                 \n",
      " dense_31 (Dense)            (None, 256)               65792     \n",
      "                                                                 \n",
      " dropout_15 (Dropout)        (None, 256)               0         \n",
      "                                                                 \n",
      " dense_32 (Dense)            (None, 256)               65792     \n",
      "                                                                 \n",
      " dropout_16 (Dropout)        (None, 256)               0         \n",
      "                                                                 \n",
      " dense_33 (Dense)            (None, 3)                 771       \n",
      "                                                                 \n",
      "=================================================================\n",
      "Total params: 428,435\n",
      "Trainable params: 428,435\n",
      "Non-trainable params: 0\n",
      "_________________________________________________________________\n"
     ]
    }
   ],
   "source": [
    "model3.summary()"
   ]
  },
  {
   "cell_type": "code",
   "execution_count": 176,
   "metadata": {
    "colab": {
     "base_uri": "https://localhost:8080/",
     "height": 1000
    },
    "executionInfo": {
     "elapsed": 11,
     "status": "ok",
     "timestamp": 1636804461113,
     "user": {
      "displayName": "Phuong Dam",
      "photoUrl": "https://lh3.googleusercontent.com/a/default-user=s64",
      "userId": "01072403895711103873"
     },
     "user_tz": -420
    },
    "id": "8_3iLxkDGwkl",
    "outputId": "0e834836-ef47-4b7f-8be9-2bab16d71390"
   },
   "outputs": [
    {
     "data": {
      "image/png": "[encoded data removed]",
      "text/plain": [
       "<IPython.core.display.Image object>"
      ]
     },
     "execution_count": 176,
     "metadata": {},
     "output_type": "execute_result"
    }
   ],
   "source": [
    "from tensorflow.keras.utils import plot_model\n",
    "from IPython.display import Image\n",
    "plot_model(model3, to_file='customer_sentiment_model3.png', show_shapes=True)\n",
    "Image(filename='customer_sentiment_model3.png')"
   ]
  },
  {
   "cell_type": "code",
   "execution_count": 177,
   "metadata": {
    "colab": {
     "base_uri": "https://localhost:8080/"
    },
    "executionInfo": {
     "elapsed": 150852,
     "status": "ok",
     "timestamp": 1636804612295,
     "user": {
      "displayName": "Phuong Dam",
      "photoUrl": "https://lh3.googleusercontent.com/a/default-user=s64",
      "userId": "01072403895711103873"
     },
     "user_tz": -420
    },
    "id": "3r20xMcjG3h1",
    "outputId": "7d97c959-cfec-47fd-d457-5fdf8cc05346"
   },
   "outputs": [
    {
     "name": "stdout",
     "output_type": "stream",
     "text": [
      "Epoch 1/50\n",
      "1220/1220 [==============================] - 15s 10ms/step - loss: 0.5022 - accuracy: 0.8149 - val_loss: 0.4682 - val_accuracy: 0.8272\n",
      "Epoch 2/50\n",
      "1220/1220 [==============================] - 12s 10ms/step - loss: 0.4602 - accuracy: 0.8275 - val_loss: 0.5810 - val_accuracy: 0.8271\n",
      "Epoch 3/50\n",
      "1220/1220 [==============================] - 12s 10ms/step - loss: 0.4455 - accuracy: 0.8323 - val_loss: 0.5118 - val_accuracy: 0.8048\n",
      "Epoch 4/50\n",
      "1220/1220 [==============================] - 12s 10ms/step - loss: 0.4384 - accuracy: 0.8349 - val_loss: 0.4377 - val_accuracy: 0.8285\n",
      "Epoch 5/50\n",
      "1220/1220 [==============================] - 12s 10ms/step - loss: 0.4328 - accuracy: 0.8368 - val_loss: 0.4649 - val_accuracy: 0.8320\n",
      "Epoch 6/50\n",
      "1220/1220 [==============================] - 12s 10ms/step - loss: 0.4262 - accuracy: 0.8381 - val_loss: 0.4351 - val_accuracy: 0.8333\n",
      "Epoch 7/50\n",
      "1220/1220 [==============================] - 12s 10ms/step - loss: 0.4218 - accuracy: 0.8408 - val_loss: 0.4350 - val_accuracy: 0.8327\n",
      "Epoch 8/50\n",
      "1220/1220 [==============================] - 13s 10ms/step - loss: 0.4163 - accuracy: 0.8414 - val_loss: 0.4788 - val_accuracy: 0.8176\n",
      "Epoch 9/50\n",
      "1220/1220 [==============================] - 12s 10ms/step - loss: 0.4128 - accuracy: 0.8424 - val_loss: 0.4727 - val_accuracy: 0.8351\n",
      "Epoch 10/50\n",
      "1220/1220 [==============================] - 12s 10ms/step - loss: 0.4089 - accuracy: 0.8450 - val_loss: 0.4563 - val_accuracy: 0.8355\n",
      "Epoch 11/50\n",
      "1220/1220 [==============================] - 13s 10ms/step - loss: 0.4070 - accuracy: 0.8468 - val_loss: 0.4609 - val_accuracy: 0.8302\n",
      "Epoch 12/50\n",
      "1220/1220 [==============================] - 12s 10ms/step - loss: 0.4043 - accuracy: 0.8468 - val_loss: 0.4426 - val_accuracy: 0.8307\n"
     ]
    }
   ],
   "source": [
    "history3 = model3.fit(sequence_matrix, y_new_train,\n",
    "                    batch_size=128,\n",
    "                    epochs=50,\n",
    "                    validation_split=0.2,\n",
    "                    callbacks=[EarlyStopping(monitor='val_loss', patience=5)])"
   ]
  },
  {
   "cell_type": "code",
   "execution_count": 178,
   "metadata": {
    "colab": {
     "base_uri": "https://localhost:8080/",
     "height": 204
    },
    "executionInfo": {
     "elapsed": 16,
     "status": "ok",
     "timestamp": 1636804612296,
     "user": {
      "displayName": "Phuong Dam",
      "photoUrl": "https://lh3.googleusercontent.com/a/default-user=s64",
      "userId": "01072403895711103873"
     },
     "user_tz": -420
    },
    "id": "q625jptPG_OF",
    "outputId": "0d9cef03-ff71-489f-cc9a-3658e88d5d26"
   },
   "outputs": [
    {
     "data": {
      "text/html": [
       "<div>\n",
       "<style scoped>\n",
       "    .dataframe tbody tr th:only-of-type {\n",
       "        vertical-align: middle;\n",
       "    }\n",
       "\n",
       "    .dataframe tbody tr th {\n",
       "        vertical-align: top;\n",
       "    }\n",
       "\n",
       "    .dataframe thead th {\n",
       "        text-align: right;\n",
       "    }\n",
       "</style>\n",
       "<table border=\"1\" class=\"dataframe\">\n",
       "  <thead>\n",
       "    <tr style=\"text-align: right;\">\n",
       "      <th></th>\n",
       "      <th>loss</th>\n",
       "      <th>accuracy</th>\n",
       "      <th>val_loss</th>\n",
       "      <th>val_accuracy</th>\n",
       "    </tr>\n",
       "  </thead>\n",
       "  <tbody>\n",
       "    <tr>\n",
       "      <th>7</th>\n",
       "      <td>0.416346</td>\n",
       "      <td>0.841373</td>\n",
       "      <td>0.478754</td>\n",
       "      <td>0.817609</td>\n",
       "    </tr>\n",
       "    <tr>\n",
       "      <th>8</th>\n",
       "      <td>0.412823</td>\n",
       "      <td>0.842405</td>\n",
       "      <td>0.472665</td>\n",
       "      <td>0.835115</td>\n",
       "    </tr>\n",
       "    <tr>\n",
       "      <th>9</th>\n",
       "      <td>0.408894</td>\n",
       "      <td>0.844981</td>\n",
       "      <td>0.456315</td>\n",
       "      <td>0.835499</td>\n",
       "    </tr>\n",
       "    <tr>\n",
       "      <th>10</th>\n",
       "      <td>0.407011</td>\n",
       "      <td>0.846801</td>\n",
       "      <td>0.460946</td>\n",
       "      <td>0.830168</td>\n",
       "    </tr>\n",
       "    <tr>\n",
       "      <th>11</th>\n",
       "      <td>0.404325</td>\n",
       "      <td>0.846762</td>\n",
       "      <td>0.442626</td>\n",
       "      <td>0.830732</td>\n",
       "    </tr>\n",
       "  </tbody>\n",
       "</table>\n",
       "</div>"
      ],
      "text/plain": [
       "        loss  accuracy  val_loss  val_accuracy\n",
       "7   0.416346  0.841373  0.478754      0.817609\n",
       "8   0.412823  0.842405  0.472665      0.835115\n",
       "9   0.408894  0.844981  0.456315      0.835499\n",
       "10  0.407011  0.846801  0.460946      0.830168\n",
       "11  0.404325  0.846762  0.442626      0.830732"
      ]
     },
     "execution_count": 178,
     "metadata": {},
     "output_type": "execute_result"
    }
   ],
   "source": [
    "history3_df = pd.DataFrame(history3.history)\n",
    "history3_df.tail()"
   ]
  },
  {
   "cell_type": "code",
   "execution_count": 179,
   "metadata": {
    "colab": {
     "base_uri": "https://localhost:8080/",
     "height": 320
    },
    "executionInfo": {
     "elapsed": 52999,
     "status": "ok",
     "timestamp": 1636804905626,
     "user": {
      "displayName": "Phuong Dam",
      "photoUrl": "https://lh3.googleusercontent.com/a/default-user=s64",
      "userId": "01072403895711103873"
     },
     "user_tz": -420
    },
    "id": "_y3kHwePHIZW",
    "outputId": "5814b7bf-f2e9-4fc9-a170-93a07710e3da"
   },
   "outputs": [
    {
     "data": {
      "image/png": "[encoded data removed]",
      "text/plain": [
       "<Figure size 720x360 with 2 Axes>"
      ]
     },
     "metadata": {
      "needs_background": "light"
     },
     "output_type": "display_data"
    }
   ],
   "source": [
    "plt.figure(figsize=(10, 5))\n",
    "plt.subplot(1, 2, 1)\n",
    "plt.plot(history3_df.accuracy, label='accuracy')\n",
    "plt.plot(history3_df.val_accuracy, label='val_accuracy')\n",
    "plt.legend()\n",
    "plt.subplot(1, 2, 2)\n",
    "plt.plot(history3_df.loss, label='loss')\n",
    "plt.plot(history3_df.val_loss, label='val_loss')\n",
    "plt.legend()\n",
    "plt.show()"
   ]
  },
  {
   "cell_type": "code",
   "execution_count": 180,
   "metadata": {
    "executionInfo": {
     "elapsed": 2838,
     "status": "ok",
     "timestamp": 1636804908446,
     "user": {
      "displayName": "Phuong Dam",
      "photoUrl": "https://lh3.googleusercontent.com/a/default-user=s64",
      "userId": "01072403895711103873"
     },
     "user_tz": -420
    },
    "id": "6BZ1TvTPHLja"
   },
   "outputs": [],
   "source": [
    "# test\n",
    "test_sequence = tok.texts_to_sequences(X_new_test)\n",
    "test_sequence_matrix = sequence.pad_sequences(test_sequence, maxlen=max_len)"
   ]
  },
  {
   "cell_type": "code",
   "execution_count": 181,
   "metadata": {
    "colab": {
     "base_uri": "https://localhost:8080/"
    },
    "executionInfo": {
     "elapsed": 10265,
     "status": "ok",
     "timestamp": 1636804918701,
     "user": {
      "displayName": "Phuong Dam",
      "photoUrl": "https://lh3.googleusercontent.com/a/default-user=s64",
      "userId": "01072403895711103873"
     },
     "user_tz": -420
    },
    "id": "HBOsJn64Ha_b",
    "outputId": "f2d4daa1-d911-4fb1-99fc-773d2a391fc1"
   },
   "outputs": [
    {
     "name": "stdout",
     "output_type": "stream",
     "text": [
      "2613/2613 [==============================] - 10s 4ms/step - loss: 0.4510 - accuracy: 0.8288\n",
      "Test set\n",
      " -Loss: 0.451\n",
      " -Accuracy: 0.829\n"
     ]
    }
   ],
   "source": [
    "accr = model3.evaluate(test_sequence_matrix, y_new_test)\n",
    "print('Test set\\n -Loss: {:0.3f}\\n -Accuracy: {:0.3f}'.format(accr[0], accr[1]))"
   ]
  },
  {
   "cell_type": "markdown",
   "metadata": {
    "id": "HUnCNGtbwriZ"
   },
   "source": [
    "# Kết luận:\n",
    "Chọn model 1 có Accuracy cao nhất và loss thấp nhất trong 3 model:\n",
    " - Loss: 0.385\n",
    " - Accuracy: 0.855"
   ]
  }
 ],
 "metadata": {
  "accelerator": "GPU",
  "colab": {
   "collapsed_sections": [
    "5vZ9JZTbt1pV",
    "6tGEuREit9Bx",
    "qDlfGlPklUSb",
    "LyDERoCVtyv7",
    "mQRdV6v-uQYR",
    "SryzVBtbEMda"
   ],
   "machine_shape": "hm",
   "name": "Copy2 of predict_customer_sentiment.ipynb",
   "provenance": []
  },
  "kernelspec": {
   "display_name": "Python 3 (ipykernel)",
   "language": "python",
   "name": "python3"
  },
  "language_info": {
   "codemirror_mode": {
    "name": "ipython",
    "version": 3
   },
   "file_extension": ".py",
   "mimetype": "text/x-python",
   "name": "python",
   "nbconvert_exporter": "python",
   "pygments_lexer": "ipython3",
   "version": "3.8.12"
  }
 },
 "nbformat": 4,
 "nbformat_minor": 1
}
